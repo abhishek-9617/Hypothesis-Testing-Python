{
 "cells": [
  {
   "cell_type": "code",
   "execution_count": 282,
   "id": "204f4863-b999-4ed7-91e7-256321752dd1",
   "metadata": {},
   "outputs": [],
   "source": [
    "import numpy as np\n",
    "import pandas as pd\n",
    "import matplotlib.pyplot as plt\n",
    "import seaborn as sns\n",
    "import datetime as dt\n",
    "import scipy.stats as stats"
   ]
  },
  {
   "cell_type": "code",
   "execution_count": 288,
   "id": "93ded371-881e-4e43-a332-0a0e450c434c",
   "metadata": {},
   "outputs": [
    {
     "data": {
      "text/html": [
       "<div>\n",
       "<style scoped>\n",
       "    .dataframe tbody tr th:only-of-type {\n",
       "        vertical-align: middle;\n",
       "    }\n",
       "\n",
       "    .dataframe tbody tr th {\n",
       "        vertical-align: top;\n",
       "    }\n",
       "\n",
       "    .dataframe thead th {\n",
       "        text-align: right;\n",
       "    }\n",
       "</style>\n",
       "<table border=\"1\" class=\"dataframe\">\n",
       "  <thead>\n",
       "    <tr style=\"text-align: right;\">\n",
       "      <th></th>\n",
       "      <th>Amount.Requested</th>\n",
       "      <th>Amount.Funded.By.Investors</th>\n",
       "      <th>Interest.Rate</th>\n",
       "      <th>Loan.Length</th>\n",
       "      <th>Loan.Purpose</th>\n",
       "      <th>Debt.To.Income.Ratio</th>\n",
       "      <th>State</th>\n",
       "      <th>Home.Ownership</th>\n",
       "      <th>Monthly.Income</th>\n",
       "      <th>FICO.Range</th>\n",
       "      <th>Open.CREDIT.Lines</th>\n",
       "      <th>Revolving.CREDIT.Balance</th>\n",
       "      <th>Inquiries.in.the.Last.6.Months</th>\n",
       "      <th>Employment.Length</th>\n",
       "    </tr>\n",
       "  </thead>\n",
       "  <tbody>\n",
       "    <tr>\n",
       "      <th>0</th>\n",
       "      <td>20000.0</td>\n",
       "      <td>20000.0</td>\n",
       "      <td>8.90%</td>\n",
       "      <td>36 months</td>\n",
       "      <td>debt_consolidation</td>\n",
       "      <td>14.90%</td>\n",
       "      <td>SC</td>\n",
       "      <td>MORTGAGE</td>\n",
       "      <td>6541.67</td>\n",
       "      <td>735-739</td>\n",
       "      <td>14.0</td>\n",
       "      <td>14272.0</td>\n",
       "      <td>2.0</td>\n",
       "      <td>&lt; 1 year</td>\n",
       "    </tr>\n",
       "    <tr>\n",
       "      <th>1</th>\n",
       "      <td>19200.0</td>\n",
       "      <td>19200.0</td>\n",
       "      <td>12.12%</td>\n",
       "      <td>36 months</td>\n",
       "      <td>debt_consolidation</td>\n",
       "      <td>28.36%</td>\n",
       "      <td>TX</td>\n",
       "      <td>MORTGAGE</td>\n",
       "      <td>4583.33</td>\n",
       "      <td>715-719</td>\n",
       "      <td>12.0</td>\n",
       "      <td>11140.0</td>\n",
       "      <td>1.0</td>\n",
       "      <td>2 years</td>\n",
       "    </tr>\n",
       "    <tr>\n",
       "      <th>2</th>\n",
       "      <td>35000.0</td>\n",
       "      <td>35000.0</td>\n",
       "      <td>21.98%</td>\n",
       "      <td>60 months</td>\n",
       "      <td>debt_consolidation</td>\n",
       "      <td>23.81%</td>\n",
       "      <td>CA</td>\n",
       "      <td>MORTGAGE</td>\n",
       "      <td>11500.00</td>\n",
       "      <td>690-694</td>\n",
       "      <td>14.0</td>\n",
       "      <td>21977.0</td>\n",
       "      <td>1.0</td>\n",
       "      <td>2 years</td>\n",
       "    </tr>\n",
       "    <tr>\n",
       "      <th>3</th>\n",
       "      <td>10000.0</td>\n",
       "      <td>9975.0</td>\n",
       "      <td>9.99%</td>\n",
       "      <td>36 months</td>\n",
       "      <td>debt_consolidation</td>\n",
       "      <td>14.30%</td>\n",
       "      <td>KS</td>\n",
       "      <td>MORTGAGE</td>\n",
       "      <td>3833.33</td>\n",
       "      <td>695-699</td>\n",
       "      <td>10.0</td>\n",
       "      <td>9346.0</td>\n",
       "      <td>0.0</td>\n",
       "      <td>5 years</td>\n",
       "    </tr>\n",
       "    <tr>\n",
       "      <th>4</th>\n",
       "      <td>12000.0</td>\n",
       "      <td>12000.0</td>\n",
       "      <td>11.71%</td>\n",
       "      <td>36 months</td>\n",
       "      <td>credit_card</td>\n",
       "      <td>18.78%</td>\n",
       "      <td>NJ</td>\n",
       "      <td>RENT</td>\n",
       "      <td>3195.00</td>\n",
       "      <td>695-699</td>\n",
       "      <td>11.0</td>\n",
       "      <td>14469.0</td>\n",
       "      <td>0.0</td>\n",
       "      <td>9 years</td>\n",
       "    </tr>\n",
       "  </tbody>\n",
       "</table>\n",
       "</div>"
      ],
      "text/plain": [
       "   Amount.Requested  Amount.Funded.By.Investors Interest.Rate Loan.Length  \\\n",
       "0           20000.0                     20000.0         8.90%   36 months   \n",
       "1           19200.0                     19200.0        12.12%   36 months   \n",
       "2           35000.0                     35000.0        21.98%   60 months   \n",
       "3           10000.0                      9975.0         9.99%   36 months   \n",
       "4           12000.0                     12000.0        11.71%   36 months   \n",
       "\n",
       "         Loan.Purpose Debt.To.Income.Ratio State Home.Ownership  \\\n",
       "0  debt_consolidation               14.90%    SC       MORTGAGE   \n",
       "1  debt_consolidation               28.36%    TX       MORTGAGE   \n",
       "2  debt_consolidation               23.81%    CA       MORTGAGE   \n",
       "3  debt_consolidation               14.30%    KS       MORTGAGE   \n",
       "4         credit_card               18.78%    NJ           RENT   \n",
       "\n",
       "   Monthly.Income FICO.Range  Open.CREDIT.Lines  Revolving.CREDIT.Balance  \\\n",
       "0         6541.67    735-739               14.0                   14272.0   \n",
       "1         4583.33    715-719               12.0                   11140.0   \n",
       "2        11500.00    690-694               14.0                   21977.0   \n",
       "3         3833.33    695-699               10.0                    9346.0   \n",
       "4         3195.00    695-699               11.0                   14469.0   \n",
       "\n",
       "   Inquiries.in.the.Last.6.Months Employment.Length  \n",
       "0                             2.0          < 1 year  \n",
       "1                             1.0           2 years  \n",
       "2                             1.0           2 years  \n",
       "3                             0.0           5 years  \n",
       "4                             0.0           9 years  "
      ]
     },
     "execution_count": 288,
     "metadata": {},
     "output_type": "execute_result"
    }
   ],
   "source": [
    "loans= pd.read_csv(r\"C:\\Users\\hp\\Downloads\\Python Case Study\\4. Basic Statistics - Hypothesis Testing\\LoansData.csv\")\n",
    "loans.head()"
   ]
  },
  {
   "cell_type": "code",
   "execution_count": 292,
   "id": "45882f61-e58e-4ad8-83f3-d3f4c5b810e4",
   "metadata": {},
   "outputs": [
    {
     "data": {
      "text/plain": [
       "Amount.Requested                  float64\n",
       "Amount.Funded.By.Investors        float64\n",
       "Interest.Rate                      object\n",
       "Loan.Length                        object\n",
       "Loan.Purpose                       object\n",
       "Debt.To.Income.Ratio               object\n",
       "State                              object\n",
       "Home.Ownership                     object\n",
       "Monthly.Income                    float64\n",
       "FICO.Range                         object\n",
       "Open.CREDIT.Lines                 float64\n",
       "Revolving.CREDIT.Balance          float64\n",
       "Inquiries.in.the.Last.6.Months    float64\n",
       "Employment.Length                  object\n",
       "dtype: object"
      ]
     },
     "execution_count": 292,
     "metadata": {},
     "output_type": "execute_result"
    }
   ],
   "source": [
    "loans.dtypes"
   ]
  },
  {
   "cell_type": "code",
   "execution_count": 294,
   "id": "b71ba127-16e7-4977-97d1-653df8ce4b94",
   "metadata": {},
   "outputs": [
    {
     "data": {
      "text/plain": [
       "Amount.Requested                   1\n",
       "Amount.Funded.By.Investors         1\n",
       "Interest.Rate                      2\n",
       "Loan.Length                        0\n",
       "Loan.Purpose                       0\n",
       "Debt.To.Income.Ratio               1\n",
       "State                              0\n",
       "Home.Ownership                     1\n",
       "Monthly.Income                     1\n",
       "FICO.Range                         2\n",
       "Open.CREDIT.Lines                  3\n",
       "Revolving.CREDIT.Balance           3\n",
       "Inquiries.in.the.Last.6.Months     3\n",
       "Employment.Length                 77\n",
       "dtype: int64"
      ]
     },
     "execution_count": 294,
     "metadata": {},
     "output_type": "execute_result"
    }
   ],
   "source": [
    "loans.isna().sum()"
   ]
  },
  {
   "cell_type": "code",
   "execution_count": 296,
   "id": "31f13ba6-fb9a-4293-b0e1-d617b8823518",
   "metadata": {},
   "outputs": [],
   "source": [
    "loans.columns= loans.columns.str.replace('.','_')"
   ]
  },
  {
   "cell_type": "code",
   "execution_count": 298,
   "id": "aecee4e2-435e-4b02-8e29-6bec70cf3a7b",
   "metadata": {},
   "outputs": [],
   "source": [
    "loans['Interest_Rate'] = loans.Interest_Rate.str.replace('%','').astype('float64')"
   ]
  },
  {
   "cell_type": "code",
   "execution_count": 300,
   "id": "b43e5952-f0d6-4864-8720-4867b326d73d",
   "metadata": {},
   "outputs": [
    {
     "data": {
      "text/plain": [
       "Amount_Requested                  float64\n",
       "Amount_Funded_By_Investors        float64\n",
       "Interest_Rate                     float64\n",
       "Loan_Length                        object\n",
       "Loan_Purpose                       object\n",
       "Debt_To_Income_Ratio               object\n",
       "State                              object\n",
       "Home_Ownership                     object\n",
       "Monthly_Income                    float64\n",
       "FICO_Range                         object\n",
       "Open_CREDIT_Lines                 float64\n",
       "Revolving_CREDIT_Balance          float64\n",
       "Inquiries_in_the_Last_6_Months    float64\n",
       "Employment_Length                  object\n",
       "dtype: object"
      ]
     },
     "execution_count": 300,
     "metadata": {},
     "output_type": "execute_result"
    }
   ],
   "source": [
    "loans.dtypes"
   ]
  },
  {
   "cell_type": "code",
   "execution_count": 302,
   "id": "8e7908d3-2883-41ca-959d-83fb62093146",
   "metadata": {},
   "outputs": [
    {
     "data": {
      "text/plain": [
       "0"
      ]
     },
     "execution_count": 302,
     "metadata": {},
     "output_type": "execute_result"
    }
   ],
   "source": [
    "loans.duplicated().sum()"
   ]
  },
  {
   "cell_type": "code",
   "execution_count": 304,
   "id": "afc6afbd-7173-4422-b643-7f78f00ee639",
   "metadata": {},
   "outputs": [],
   "source": [
    "### Handling the null values of continuous and categorical variables:\n",
    "\n",
    "def missing_value(x):\n",
    "    if (x.dtype in ['float64','int64']):\n",
    "        return x.fillna(x.mean())\n",
    "        \n",
    "    else:\n",
    "        return x.fillna(x.mode().iloc[0])\n",
    "\n",
    "loans.iloc[:, 0:len(loans.columns)] = loans.iloc[:, 0:len(loans.columns)].apply(missing_value)"
   ]
  },
  {
   "cell_type": "code",
   "execution_count": 308,
   "id": "d3dd905b-d231-44f6-a884-a20fa8f0517a",
   "metadata": {},
   "outputs": [
    {
     "data": {
      "text/plain": [
       "Amount_Requested                  0\n",
       "Amount_Funded_By_Investors        0\n",
       "Interest_Rate                     0\n",
       "Loan_Length                       0\n",
       "Loan_Purpose                      0\n",
       "Debt_To_Income_Ratio              0\n",
       "State                             0\n",
       "Home_Ownership                    0\n",
       "Monthly_Income                    0\n",
       "FICO_Range                        0\n",
       "Open_CREDIT_Lines                 0\n",
       "Revolving_CREDIT_Balance          0\n",
       "Inquiries_in_the_Last_6_Months    0\n",
       "Employment_Length                 0\n",
       "dtype: int64"
      ]
     },
     "execution_count": 308,
     "metadata": {},
     "output_type": "execute_result"
    }
   ],
   "source": [
    "loans.isna().sum()"
   ]
  },
  {
   "cell_type": "markdown",
   "id": "73a46e2b-11ff-4ecd-8b86-d32b8dfacc74",
   "metadata": {},
   "source": [
    "### <center>BUSINESS PROBLEM-1</center>\n",
    "\n",
    "**BACKGROUND:** \n",
    "\n",
    "The Lending Club is a peer-to-peer lending site where members make loans to each other. The site makes anonymized data on loans and borrowers publicly available.\n",
    "\n",
    "**BUSINESS PROBLEM:**\n",
    "\n",
    "\n",
    "Using lending club loans data, the team would like to test below hypothesis on how different factors effecing each other (Hint: You may leverage hypothesis testing using statistical tests)"
   ]
  },
  {
   "cell_type": "markdown",
   "id": "39845b45-26de-42f0-afbf-b3342312bf81",
   "metadata": {},
   "source": [
    "#### (a.) Intrest rate is varied for different loan amounts (Less intrest charged for high loan amounts)"
   ]
  },
  {
   "cell_type": "markdown",
   "id": "c9498df2-f7fc-42c3-904f-2286d1141762",
   "metadata": {},
   "source": [
    "#####  1. NULL hypothesis , H0 :\n",
    "\n",
    "                Interest rate & Loan amount are independent variables.\n",
    "                Interest rate does not vary for different loan amounts.(Less interest is not charged for high loan amounts).\n",
    "\n",
    "\n",
    "#####  2. ALTERNATIVE hypothesis , Ha :\n",
    "\n",
    "                Interest rate & Loan amount are dependent variables.\n",
    "                Intrest rate is varied for different loan amounts (Less intrest charged for high loan amounts).\n",
    "\n",
    "##### 3. CI & p-values :\n",
    "\n",
    "                CI= 95% , p-value=0.05\n",
    "\n",
    "##### 4. Perform the test :\n",
    "\n",
    "                pearsonr()"
   ]
  },
  {
   "cell_type": "code",
   "execution_count": 324,
   "id": "c6a9e2bd-46c5-4c97-95bd-71de9bc502fa",
   "metadata": {},
   "outputs": [
    {
     "data": {
      "text/plain": [
       "PearsonRResult(statistic=0.3324464059665682, pvalue=1.4148683739785434e-65)"
      ]
     },
     "execution_count": 324,
     "metadata": {},
     "output_type": "execute_result"
    }
   ],
   "source": [
    "stats.pearsonr(loans.Amount_Requested , loans.Interest_Rate)"
   ]
  },
  {
   "cell_type": "markdown",
   "id": "c07d4faa-5bf6-4647-89ef-ceffe688a597",
   "metadata": {},
   "source": [
    "##### 5. Rejection Rule :\n",
    "\n",
    "            New P_value < 0.05 \n",
    "            hence, we Reject NULL Hypothesis.\n",
    "\n",
    "##### 6. Business conclusion :\n",
    "\n",
    "            Interest rate is varied for different loan amounts (Less interest charged for high loan amounts)."
   ]
  },
  {
   "cell_type": "markdown",
   "id": "a16a718c-6914-4807-812d-0a768a24f16f",
   "metadata": {},
   "source": [
    "#### (b.) Loan length is directly effecting intrest rate."
   ]
  },
  {
   "cell_type": "markdown",
   "id": "4e767296-47ac-43ec-a399-3991f8f6f092",
   "metadata": {},
   "source": [
    "#####  1. NULL hypothesis , H0 :\n",
    "\n",
    "                u1 = u2\n",
    "                Loan length is not directly effecting intrest rate.\n",
    "                There is no difference in interest rates across different loan lengths.\n",
    "\n",
    "#####  2. ALTERNATIVE hypothesis , Ha :\n",
    "\n",
    "                u1 <> u2\n",
    "                Loan length is directly effecting intrest rate.\n",
    "                There is a significant difference in interest rates for different loan lengths.\n",
    "\n",
    "##### 3. CI & p-values :\n",
    "\n",
    "                CI= 95% , p-value=0.05\n",
    "\n",
    "##### 4. Perform the test :\n",
    "\n",
    "                t-test"
   ]
  },
  {
   "cell_type": "code",
   "execution_count": 338,
   "id": "cb5f9a56-ef9f-414b-b8e7-b7cf7f020f3c",
   "metadata": {},
   "outputs": [
    {
     "name": "stdout",
     "output_type": "stream",
     "text": [
      "Interest Rate Mean of 36 Months Long Length :  12.127141791301895\n",
      "Interest Rate Mean of 60 Months Long Length :  16.407463503649634\n"
     ]
    }
   ],
   "source": [
    "m1= loans.loc[loans.Loan_Length.str.contains('36 Months', case= False),'Interest_Rate']\n",
    "m2= loans.loc[loans.Loan_Length.str.contains('60 Months', case= False),'Interest_Rate']\n",
    "print('Interest Rate Mean of 36 Months Long Length : ', m1.mean())\n",
    "print('Interest Rate Mean of 60 Months Long Length : ', m2.mean())"
   ]
  },
  {
   "cell_type": "code",
   "execution_count": 340,
   "id": "f85611b6-abc2-4955-9cc0-92bf8fa75669",
   "metadata": {},
   "outputs": [
    {
     "data": {
      "text/plain": [
       "TtestResult(statistic=-23.41049023613487, pvalue=9.549596064332559e-110, df=2498.0)"
      ]
     },
     "execution_count": 340,
     "metadata": {},
     "output_type": "execute_result"
    }
   ],
   "source": [
    "stats.ttest_ind(m1 , m2)"
   ]
  },
  {
   "cell_type": "markdown",
   "id": "f8066aab-f57d-4d23-a50d-c87a9fcd4cdd",
   "metadata": {},
   "source": [
    "##### 5. Rejection Rule :\n",
    "\n",
    "            New P_value < 0.05 \n",
    "            hence, we Reject NULL Hypothesis.\n",
    "\n",
    "##### 6. Business conclusion :\n",
    "\n",
    "            longer loan terms are associated with higher interest rates -----> Loan length is directly effecting intrest rate."
   ]
  },
  {
   "cell_type": "markdown",
   "id": "a2f74348-7f12-4110-86c3-1db013179e0a",
   "metadata": {},
   "source": [
    "#### (c.) Interest rate varies for different purpose of loans"
   ]
  },
  {
   "cell_type": "markdown",
   "id": "74cb0155-1026-4952-890d-40229c570747",
   "metadata": {},
   "source": [
    "#####  1. NULL hypothesis , H0 :\n",
    "\n",
    "                u1 = u2 = u3 = u4 ......\n",
    "                Interest rate doest not varry for different purpose of loans.\n",
    "\n",
    "#####  2. ALTERNATIVE hypothesis , Ha :\n",
    "\n",
    "                u1 <> u2 <> u3 <> u4.....\n",
    "                Interest rate varies for different purpose of loans.\n",
    "\n",
    "##### 3. CI & p-values :\n",
    "\n",
    "                CI= 95% , p-value=0.05\n",
    "\n",
    "##### 4. Perform the test :\n",
    "\n",
    "                f-test"
   ]
  },
  {
   "cell_type": "code",
   "execution_count": 377,
   "id": "53407ba2-b269-4c8c-9193-90b3f440fcd5",
   "metadata": {},
   "outputs": [],
   "source": [
    "group= []\n",
    "for i , name in loans.groupby('Loan_Purpose'):\n",
    "    group.append(name['Interest_Rate'].values)"
   ]
  },
  {
   "cell_type": "code",
   "execution_count": 379,
   "id": "67a0f584-aece-4a8b-99a0-a874afa7f9bb",
   "metadata": {},
   "outputs": [
    {
     "data": {
      "text/plain": [
       "F_onewayResult(statistic=7.4826387840974355, pvalue=1.1599665535989115e-14)"
      ]
     },
     "execution_count": 379,
     "metadata": {},
     "output_type": "execute_result"
    }
   ],
   "source": [
    "stats.f_oneway(*group)"
   ]
  },
  {
   "cell_type": "markdown",
   "id": "d602fd42-fb4c-4466-a5d8-5a875bb7f57e",
   "metadata": {},
   "source": [
    "##### 5. Rejection Rule :\n",
    "\n",
    "            New P_value < 0.05 \n",
    "            hence, we Reject NULL Hypothesis.\n",
    "\n",
    "##### 6. Business conclusion :\n",
    "\n",
    "             Interest rate varies for different purpose of loans."
   ]
  },
  {
   "cell_type": "markdown",
   "id": "50296210-8a64-4f89-9369-e727ff1f0942",
   "metadata": {},
   "source": [
    "#### (d.) There is relationship between FICO scores and Home Ownership. It means that, People with owning home will have high FICO scores."
   ]
  },
  {
   "cell_type": "markdown",
   "id": "a8069ff3-40eb-4211-9961-e2d1fd91a4fa",
   "metadata": {},
   "source": [
    "#####  1. NULL hypothesis , H0 :\n",
    "\n",
    "                There is no relationship between FICO scores and Home Ownership.\n",
    "\n",
    "#####  2. ALTERNATIVE hypothesis , Ha :\n",
    "\n",
    "                There is relationship between FICO scores and Home Ownership.\n",
    "\n",
    "##### 3. CI & p-values :\n",
    "\n",
    "                CI= 95% , p-value=0.05\n",
    "\n",
    "##### 4. Perform the test :\n",
    "\n",
    "                chi-squared test"
   ]
  },
  {
   "cell_type": "code",
   "execution_count": 406,
   "id": "23d97c68-4831-45fd-856b-43e91b151c38",
   "metadata": {},
   "outputs": [
    {
     "data": {
      "text/html": [
       "<div>\n",
       "<style scoped>\n",
       "    .dataframe tbody tr th:only-of-type {\n",
       "        vertical-align: middle;\n",
       "    }\n",
       "\n",
       "    .dataframe tbody tr th {\n",
       "        vertical-align: top;\n",
       "    }\n",
       "\n",
       "    .dataframe thead th {\n",
       "        text-align: right;\n",
       "    }\n",
       "</style>\n",
       "<table border=\"1\" class=\"dataframe\">\n",
       "  <thead>\n",
       "    <tr style=\"text-align: right;\">\n",
       "      <th>Home_Ownership</th>\n",
       "      <th>MORTGAGE</th>\n",
       "      <th>NONE</th>\n",
       "      <th>OTHER</th>\n",
       "      <th>OWN</th>\n",
       "      <th>RENT</th>\n",
       "    </tr>\n",
       "    <tr>\n",
       "      <th>FICO_Range</th>\n",
       "      <th></th>\n",
       "      <th></th>\n",
       "      <th></th>\n",
       "      <th></th>\n",
       "      <th></th>\n",
       "    </tr>\n",
       "  </thead>\n",
       "  <tbody>\n",
       "    <tr>\n",
       "      <th>640-644</th>\n",
       "      <td>0</td>\n",
       "      <td>0</td>\n",
       "      <td>0</td>\n",
       "      <td>1</td>\n",
       "      <td>4</td>\n",
       "    </tr>\n",
       "    <tr>\n",
       "      <th>645-649</th>\n",
       "      <td>1</td>\n",
       "      <td>0</td>\n",
       "      <td>0</td>\n",
       "      <td>0</td>\n",
       "      <td>2</td>\n",
       "    </tr>\n",
       "    <tr>\n",
       "      <th>650-654</th>\n",
       "      <td>1</td>\n",
       "      <td>0</td>\n",
       "      <td>0</td>\n",
       "      <td>0</td>\n",
       "      <td>0</td>\n",
       "    </tr>\n",
       "    <tr>\n",
       "      <th>655-659</th>\n",
       "      <td>0</td>\n",
       "      <td>0</td>\n",
       "      <td>1</td>\n",
       "      <td>0</td>\n",
       "      <td>3</td>\n",
       "    </tr>\n",
       "    <tr>\n",
       "      <th>660-664</th>\n",
       "      <td>41</td>\n",
       "      <td>0</td>\n",
       "      <td>0</td>\n",
       "      <td>17</td>\n",
       "      <td>67</td>\n",
       "    </tr>\n",
       "    <tr>\n",
       "      <th>665-669</th>\n",
       "      <td>52</td>\n",
       "      <td>0</td>\n",
       "      <td>0</td>\n",
       "      <td>18</td>\n",
       "      <td>75</td>\n",
       "    </tr>\n",
       "    <tr>\n",
       "      <th>670-674</th>\n",
       "      <td>68</td>\n",
       "      <td>0</td>\n",
       "      <td>1</td>\n",
       "      <td>13</td>\n",
       "      <td>91</td>\n",
       "    </tr>\n",
       "    <tr>\n",
       "      <th>675-679</th>\n",
       "      <td>79</td>\n",
       "      <td>0</td>\n",
       "      <td>1</td>\n",
       "      <td>11</td>\n",
       "      <td>75</td>\n",
       "    </tr>\n",
       "    <tr>\n",
       "      <th>680-684</th>\n",
       "      <td>55</td>\n",
       "      <td>0</td>\n",
       "      <td>2</td>\n",
       "      <td>9</td>\n",
       "      <td>91</td>\n",
       "    </tr>\n",
       "    <tr>\n",
       "      <th>685-689</th>\n",
       "      <td>61</td>\n",
       "      <td>0</td>\n",
       "      <td>0</td>\n",
       "      <td>10</td>\n",
       "      <td>65</td>\n",
       "    </tr>\n",
       "    <tr>\n",
       "      <th>690-694</th>\n",
       "      <td>55</td>\n",
       "      <td>0</td>\n",
       "      <td>0</td>\n",
       "      <td>10</td>\n",
       "      <td>75</td>\n",
       "    </tr>\n",
       "    <tr>\n",
       "      <th>695-699</th>\n",
       "      <td>68</td>\n",
       "      <td>0</td>\n",
       "      <td>0</td>\n",
       "      <td>10</td>\n",
       "      <td>75</td>\n",
       "    </tr>\n",
       "    <tr>\n",
       "      <th>700-704</th>\n",
       "      <td>60</td>\n",
       "      <td>0</td>\n",
       "      <td>0</td>\n",
       "      <td>12</td>\n",
       "      <td>59</td>\n",
       "    </tr>\n",
       "    <tr>\n",
       "      <th>705-709</th>\n",
       "      <td>66</td>\n",
       "      <td>0</td>\n",
       "      <td>0</td>\n",
       "      <td>12</td>\n",
       "      <td>56</td>\n",
       "    </tr>\n",
       "    <tr>\n",
       "      <th>710-714</th>\n",
       "      <td>55</td>\n",
       "      <td>0</td>\n",
       "      <td>0</td>\n",
       "      <td>10</td>\n",
       "      <td>47</td>\n",
       "    </tr>\n",
       "    <tr>\n",
       "      <th>715-719</th>\n",
       "      <td>46</td>\n",
       "      <td>0</td>\n",
       "      <td>0</td>\n",
       "      <td>2</td>\n",
       "      <td>45</td>\n",
       "    </tr>\n",
       "    <tr>\n",
       "      <th>720-724</th>\n",
       "      <td>49</td>\n",
       "      <td>0</td>\n",
       "      <td>0</td>\n",
       "      <td>1</td>\n",
       "      <td>64</td>\n",
       "    </tr>\n",
       "    <tr>\n",
       "      <th>725-729</th>\n",
       "      <td>48</td>\n",
       "      <td>0</td>\n",
       "      <td>0</td>\n",
       "      <td>5</td>\n",
       "      <td>41</td>\n",
       "    </tr>\n",
       "    <tr>\n",
       "      <th>730-734</th>\n",
       "      <td>46</td>\n",
       "      <td>0</td>\n",
       "      <td>0</td>\n",
       "      <td>7</td>\n",
       "      <td>41</td>\n",
       "    </tr>\n",
       "    <tr>\n",
       "      <th>735-739</th>\n",
       "      <td>30</td>\n",
       "      <td>0</td>\n",
       "      <td>0</td>\n",
       "      <td>6</td>\n",
       "      <td>29</td>\n",
       "    </tr>\n",
       "    <tr>\n",
       "      <th>740-744</th>\n",
       "      <td>26</td>\n",
       "      <td>0</td>\n",
       "      <td>0</td>\n",
       "      <td>4</td>\n",
       "      <td>23</td>\n",
       "    </tr>\n",
       "    <tr>\n",
       "      <th>745-749</th>\n",
       "      <td>26</td>\n",
       "      <td>0</td>\n",
       "      <td>0</td>\n",
       "      <td>7</td>\n",
       "      <td>21</td>\n",
       "    </tr>\n",
       "    <tr>\n",
       "      <th>750-754</th>\n",
       "      <td>32</td>\n",
       "      <td>0</td>\n",
       "      <td>0</td>\n",
       "      <td>4</td>\n",
       "      <td>25</td>\n",
       "    </tr>\n",
       "    <tr>\n",
       "      <th>755-759</th>\n",
       "      <td>28</td>\n",
       "      <td>0</td>\n",
       "      <td>0</td>\n",
       "      <td>6</td>\n",
       "      <td>12</td>\n",
       "    </tr>\n",
       "    <tr>\n",
       "      <th>760-764</th>\n",
       "      <td>28</td>\n",
       "      <td>0</td>\n",
       "      <td>0</td>\n",
       "      <td>4</td>\n",
       "      <td>14</td>\n",
       "    </tr>\n",
       "    <tr>\n",
       "      <th>765-769</th>\n",
       "      <td>22</td>\n",
       "      <td>0</td>\n",
       "      <td>0</td>\n",
       "      <td>3</td>\n",
       "      <td>11</td>\n",
       "    </tr>\n",
       "    <tr>\n",
       "      <th>770-774</th>\n",
       "      <td>12</td>\n",
       "      <td>0</td>\n",
       "      <td>0</td>\n",
       "      <td>1</td>\n",
       "      <td>4</td>\n",
       "    </tr>\n",
       "    <tr>\n",
       "      <th>775-779</th>\n",
       "      <td>13</td>\n",
       "      <td>0</td>\n",
       "      <td>0</td>\n",
       "      <td>3</td>\n",
       "      <td>6</td>\n",
       "    </tr>\n",
       "    <tr>\n",
       "      <th>780-784</th>\n",
       "      <td>21</td>\n",
       "      <td>0</td>\n",
       "      <td>0</td>\n",
       "      <td>3</td>\n",
       "      <td>4</td>\n",
       "    </tr>\n",
       "    <tr>\n",
       "      <th>785-789</th>\n",
       "      <td>12</td>\n",
       "      <td>0</td>\n",
       "      <td>0</td>\n",
       "      <td>2</td>\n",
       "      <td>5</td>\n",
       "    </tr>\n",
       "    <tr>\n",
       "      <th>790-794</th>\n",
       "      <td>15</td>\n",
       "      <td>0</td>\n",
       "      <td>0</td>\n",
       "      <td>1</td>\n",
       "      <td>4</td>\n",
       "    </tr>\n",
       "    <tr>\n",
       "      <th>795-799</th>\n",
       "      <td>7</td>\n",
       "      <td>0</td>\n",
       "      <td>0</td>\n",
       "      <td>1</td>\n",
       "      <td>5</td>\n",
       "    </tr>\n",
       "    <tr>\n",
       "      <th>800-804</th>\n",
       "      <td>7</td>\n",
       "      <td>1</td>\n",
       "      <td>0</td>\n",
       "      <td>3</td>\n",
       "      <td>2</td>\n",
       "    </tr>\n",
       "    <tr>\n",
       "      <th>805-809</th>\n",
       "      <td>6</td>\n",
       "      <td>0</td>\n",
       "      <td>0</td>\n",
       "      <td>2</td>\n",
       "      <td>3</td>\n",
       "    </tr>\n",
       "    <tr>\n",
       "      <th>810-814</th>\n",
       "      <td>5</td>\n",
       "      <td>0</td>\n",
       "      <td>0</td>\n",
       "      <td>1</td>\n",
       "      <td>2</td>\n",
       "    </tr>\n",
       "    <tr>\n",
       "      <th>815-819</th>\n",
       "      <td>6</td>\n",
       "      <td>0</td>\n",
       "      <td>0</td>\n",
       "      <td>0</td>\n",
       "      <td>0</td>\n",
       "    </tr>\n",
       "    <tr>\n",
       "      <th>820-824</th>\n",
       "      <td>0</td>\n",
       "      <td>0</td>\n",
       "      <td>0</td>\n",
       "      <td>1</td>\n",
       "      <td>0</td>\n",
       "    </tr>\n",
       "    <tr>\n",
       "      <th>830-834</th>\n",
       "      <td>1</td>\n",
       "      <td>0</td>\n",
       "      <td>0</td>\n",
       "      <td>0</td>\n",
       "      <td>0</td>\n",
       "    </tr>\n",
       "  </tbody>\n",
       "</table>\n",
       "</div>"
      ],
      "text/plain": [
       "Home_Ownership  MORTGAGE  NONE  OTHER  OWN  RENT\n",
       "FICO_Range                                      \n",
       "640-644                0     0      0    1     4\n",
       "645-649                1     0      0    0     2\n",
       "650-654                1     0      0    0     0\n",
       "655-659                0     0      1    0     3\n",
       "660-664               41     0      0   17    67\n",
       "665-669               52     0      0   18    75\n",
       "670-674               68     0      1   13    91\n",
       "675-679               79     0      1   11    75\n",
       "680-684               55     0      2    9    91\n",
       "685-689               61     0      0   10    65\n",
       "690-694               55     0      0   10    75\n",
       "695-699               68     0      0   10    75\n",
       "700-704               60     0      0   12    59\n",
       "705-709               66     0      0   12    56\n",
       "710-714               55     0      0   10    47\n",
       "715-719               46     0      0    2    45\n",
       "720-724               49     0      0    1    64\n",
       "725-729               48     0      0    5    41\n",
       "730-734               46     0      0    7    41\n",
       "735-739               30     0      0    6    29\n",
       "740-744               26     0      0    4    23\n",
       "745-749               26     0      0    7    21\n",
       "750-754               32     0      0    4    25\n",
       "755-759               28     0      0    6    12\n",
       "760-764               28     0      0    4    14\n",
       "765-769               22     0      0    3    11\n",
       "770-774               12     0      0    1     4\n",
       "775-779               13     0      0    3     6\n",
       "780-784               21     0      0    3     4\n",
       "785-789               12     0      0    2     5\n",
       "790-794               15     0      0    1     4\n",
       "795-799                7     0      0    1     5\n",
       "800-804                7     1      0    3     2\n",
       "805-809                6     0      0    2     3\n",
       "810-814                5     0      0    1     2\n",
       "815-819                6     0      0    0     0\n",
       "820-824                0     0      0    1     0\n",
       "830-834                1     0      0    0     0"
      ]
     },
     "execution_count": 406,
     "metadata": {},
     "output_type": "execute_result"
    }
   ],
   "source": [
    "observed= pd.crosstab(index= loans.FICO_Range , columns= loans.Home_Ownership)\n",
    "observed"
   ]
  },
  {
   "cell_type": "code",
   "execution_count": 408,
   "id": "3042b74d-85e8-4f64-a7c0-109a8ceea1f6",
   "metadata": {},
   "outputs": [
    {
     "data": {
      "text/plain": [
       "Chi2ContingencyResult(statistic=473.564802816852, pvalue=1.0065160858472195e-35, dof=148, expected_freq=array([[2.29600e+00, 2.00000e-03, 1.00000e-02, 4.00000e-01, 2.29200e+00],\n",
       "       [1.37760e+00, 1.20000e-03, 6.00000e-03, 2.40000e-01, 1.37520e+00],\n",
       "       [4.59200e-01, 4.00000e-04, 2.00000e-03, 8.00000e-02, 4.58400e-01],\n",
       "       [1.83680e+00, 1.60000e-03, 8.00000e-03, 3.20000e-01, 1.83360e+00],\n",
       "       [5.74000e+01, 5.00000e-02, 2.50000e-01, 1.00000e+01, 5.73000e+01],\n",
       "       [6.65840e+01, 5.80000e-02, 2.90000e-01, 1.16000e+01, 6.64680e+01],\n",
       "       [7.94416e+01, 6.92000e-02, 3.46000e-01, 1.38400e+01, 7.93032e+01],\n",
       "       [7.62272e+01, 6.64000e-02, 3.32000e-01, 1.32800e+01, 7.60944e+01],\n",
       "       [7.20944e+01, 6.28000e-02, 3.14000e-01, 1.25600e+01, 7.19688e+01],\n",
       "       [6.24512e+01, 5.44000e-02, 2.72000e-01, 1.08800e+01, 6.23424e+01],\n",
       "       [6.42880e+01, 5.60000e-02, 2.80000e-01, 1.12000e+01, 6.41760e+01],\n",
       "       [7.02576e+01, 6.12000e-02, 3.06000e-01, 1.22400e+01, 7.01352e+01],\n",
       "       [6.01552e+01, 5.24000e-02, 2.62000e-01, 1.04800e+01, 6.00504e+01],\n",
       "       [6.15328e+01, 5.36000e-02, 2.68000e-01, 1.07200e+01, 6.14256e+01],\n",
       "       [5.14304e+01, 4.48000e-02, 2.24000e-01, 8.96000e+00, 5.13408e+01],\n",
       "       [4.27056e+01, 3.72000e-02, 1.86000e-01, 7.44000e+00, 4.26312e+01],\n",
       "       [5.23488e+01, 4.56000e-02, 2.28000e-01, 9.12000e+00, 5.22576e+01],\n",
       "       [4.31648e+01, 3.76000e-02, 1.88000e-01, 7.52000e+00, 4.30896e+01],\n",
       "       [4.31648e+01, 3.76000e-02, 1.88000e-01, 7.52000e+00, 4.30896e+01],\n",
       "       [2.98480e+01, 2.60000e-02, 1.30000e-01, 5.20000e+00, 2.97960e+01],\n",
       "       [2.43376e+01, 2.12000e-02, 1.06000e-01, 4.24000e+00, 2.42952e+01],\n",
       "       [2.47968e+01, 2.16000e-02, 1.08000e-01, 4.32000e+00, 2.47536e+01],\n",
       "       [2.80112e+01, 2.44000e-02, 1.22000e-01, 4.88000e+00, 2.79624e+01],\n",
       "       [2.11232e+01, 1.84000e-02, 9.20000e-02, 3.68000e+00, 2.10864e+01],\n",
       "       [2.11232e+01, 1.84000e-02, 9.20000e-02, 3.68000e+00, 2.10864e+01],\n",
       "       [1.65312e+01, 1.44000e-02, 7.20000e-02, 2.88000e+00, 1.65024e+01],\n",
       "       [7.80640e+00, 6.80000e-03, 3.40000e-02, 1.36000e+00, 7.79280e+00],\n",
       "       [1.01024e+01, 8.80000e-03, 4.40000e-02, 1.76000e+00, 1.00848e+01],\n",
       "       [1.28576e+01, 1.12000e-02, 5.60000e-02, 2.24000e+00, 1.28352e+01],\n",
       "       [8.72480e+00, 7.60000e-03, 3.80000e-02, 1.52000e+00, 8.70960e+00],\n",
       "       [9.18400e+00, 8.00000e-03, 4.00000e-02, 1.60000e+00, 9.16800e+00],\n",
       "       [5.96960e+00, 5.20000e-03, 2.60000e-02, 1.04000e+00, 5.95920e+00],\n",
       "       [5.96960e+00, 5.20000e-03, 2.60000e-02, 1.04000e+00, 5.95920e+00],\n",
       "       [5.05120e+00, 4.40000e-03, 2.20000e-02, 8.80000e-01, 5.04240e+00],\n",
       "       [3.67360e+00, 3.20000e-03, 1.60000e-02, 6.40000e-01, 3.66720e+00],\n",
       "       [2.75520e+00, 2.40000e-03, 1.20000e-02, 4.80000e-01, 2.75040e+00],\n",
       "       [4.59200e-01, 4.00000e-04, 2.00000e-03, 8.00000e-02, 4.58400e-01],\n",
       "       [4.59200e-01, 4.00000e-04, 2.00000e-03, 8.00000e-02, 4.58400e-01]]))"
      ]
     },
     "execution_count": 408,
     "metadata": {},
     "output_type": "execute_result"
    }
   ],
   "source": [
    "stats.chi2_contingency(observed)"
   ]
  },
  {
   "cell_type": "markdown",
   "id": "832b06d4-9fc4-4bf9-beca-ccf83b7c8587",
   "metadata": {},
   "source": [
    "##### 5. Rejection Rule :\n",
    "\n",
    "            New P_value < 0.05 \n",
    "            hence, we Reject NULL Hypothesis.\n",
    "\n",
    "##### 6. Business conclusion :\n",
    "\n",
    "             Therefore,we can say that there is relationship between FICO scores and Home Ownership with 95% accuracy."
   ]
  },
  {
   "cell_type": "markdown",
   "id": "a22e4ab9-24e9-428d-868d-f12fa2bfb5d0",
   "metadata": {},
   "source": [
    "### <center>BUSINESS PROBLEM - 2</center>\n",
    "\n",
    "**BACKGROUND:**\n",
    "\n",
    "When an order is placed by a customer of a small manufacturing company, a\n",
    "price quote must be developed for that order. Because each order is unique, quotes must be\n",
    "established on an order-by-order basis by a pricing expert. The price quote process is laborintensive,\n",
    "as prices depend on many factors such as the part number, customer, geographic\n",
    "location, market, and order volume. The sales department manager is concerned that the pricing\n",
    "process is too complex, and that there might be too much variability in the quoted prices. An\n",
    "improvement team is tasked with studying and improving the pricing process.\n",
    "After interviewing experts to develop a better understanding of the current process, the team\n",
    "designed a study to determine if there is variability between pricing experts. That is, do different\n",
    "pricing experts provide different price quotes? Two randomly selected pricing experts, Mary and\n",
    "Barry, were asked to independently provide prices for twelve randomly selected orders. Each\n",
    "expert provided one price for each of the twelve orders.\n",
    "\n",
    "\n",
    "**BUSINESS PROBLEM:** \n",
    "\n",
    "We would like to assess if there is any difference in the average\n",
    "price quotes provided by Mary and Barry."
   ]
  },
  {
   "cell_type": "code",
   "execution_count": 422,
   "id": "1db67796-afb8-4008-903a-483751851e21",
   "metadata": {},
   "outputs": [
    {
     "data": {
      "text/html": [
       "<div>\n",
       "<style scoped>\n",
       "    .dataframe tbody tr th:only-of-type {\n",
       "        vertical-align: middle;\n",
       "    }\n",
       "\n",
       "    .dataframe tbody tr th {\n",
       "        vertical-align: top;\n",
       "    }\n",
       "\n",
       "    .dataframe thead th {\n",
       "        text-align: right;\n",
       "    }\n",
       "</style>\n",
       "<table border=\"1\" class=\"dataframe\">\n",
       "  <thead>\n",
       "    <tr style=\"text-align: right;\">\n",
       "      <th></th>\n",
       "      <th>Order_Number</th>\n",
       "      <th>Barry_Price</th>\n",
       "      <th>Mary_Price</th>\n",
       "    </tr>\n",
       "  </thead>\n",
       "  <tbody>\n",
       "    <tr>\n",
       "      <th>0</th>\n",
       "      <td>1</td>\n",
       "      <td>126</td>\n",
       "      <td>114</td>\n",
       "    </tr>\n",
       "    <tr>\n",
       "      <th>1</th>\n",
       "      <td>2</td>\n",
       "      <td>110</td>\n",
       "      <td>118</td>\n",
       "    </tr>\n",
       "    <tr>\n",
       "      <th>2</th>\n",
       "      <td>3</td>\n",
       "      <td>138</td>\n",
       "      <td>114</td>\n",
       "    </tr>\n",
       "    <tr>\n",
       "      <th>3</th>\n",
       "      <td>4</td>\n",
       "      <td>142</td>\n",
       "      <td>111</td>\n",
       "    </tr>\n",
       "    <tr>\n",
       "      <th>4</th>\n",
       "      <td>5</td>\n",
       "      <td>146</td>\n",
       "      <td>129</td>\n",
       "    </tr>\n",
       "    <tr>\n",
       "      <th>5</th>\n",
       "      <td>6</td>\n",
       "      <td>136</td>\n",
       "      <td>119</td>\n",
       "    </tr>\n",
       "    <tr>\n",
       "      <th>6</th>\n",
       "      <td>7</td>\n",
       "      <td>94</td>\n",
       "      <td>97</td>\n",
       "    </tr>\n",
       "    <tr>\n",
       "      <th>7</th>\n",
       "      <td>8</td>\n",
       "      <td>103</td>\n",
       "      <td>104</td>\n",
       "    </tr>\n",
       "    <tr>\n",
       "      <th>8</th>\n",
       "      <td>9</td>\n",
       "      <td>140</td>\n",
       "      <td>127</td>\n",
       "    </tr>\n",
       "    <tr>\n",
       "      <th>9</th>\n",
       "      <td>10</td>\n",
       "      <td>152</td>\n",
       "      <td>133</td>\n",
       "    </tr>\n",
       "    <tr>\n",
       "      <th>10</th>\n",
       "      <td>11</td>\n",
       "      <td>108</td>\n",
       "      <td>103</td>\n",
       "    </tr>\n",
       "    <tr>\n",
       "      <th>11</th>\n",
       "      <td>12</td>\n",
       "      <td>97</td>\n",
       "      <td>108</td>\n",
       "    </tr>\n",
       "  </tbody>\n",
       "</table>\n",
       "</div>"
      ],
      "text/plain": [
       "    Order_Number  Barry_Price  Mary_Price\n",
       "0              1          126         114\n",
       "1              2          110         118\n",
       "2              3          138         114\n",
       "3              4          142         111\n",
       "4              5          146         129\n",
       "5              6          136         119\n",
       "6              7           94          97\n",
       "7              8          103         104\n",
       "8              9          140         127\n",
       "9             10          152         133\n",
       "10            11          108         103\n",
       "11            12           97         108"
      ]
     },
     "execution_count": 422,
     "metadata": {},
     "output_type": "execute_result"
    }
   ],
   "source": [
    "price_quotes= pd.read_csv(r\"C:\\Users\\hp\\Downloads\\Python Case Study\\4. Basic Statistics - Hypothesis Testing\\Price_Quotes.csv\")\n",
    "price_quotes"
   ]
  },
  {
   "cell_type": "markdown",
   "id": "ee1c8b8b-fbe2-44d7-ba0c-3acf8405506a",
   "metadata": {},
   "source": [
    "#####  1. NULL hypothesis , H0 :\n",
    "\n",
    "                u1 = u2\n",
    "                there is not any difference in the average price quotes provided by Mary and Barry.\n",
    "\n",
    "#####  2. ALTERNATIVE hypothesis , Ha :\n",
    "\n",
    "                u1 <> u2\n",
    "                there is any difference in the average price quotes provided by Mary and Barry.\n",
    "\n",
    "##### 3. CI & p-values :\n",
    "\n",
    "                CI= 95% , p-value=0.05\n",
    "\n",
    "##### 4. Perform the test :\n",
    "\n",
    "                t-test"
   ]
  },
  {
   "cell_type": "code",
   "execution_count": 429,
   "id": "7b96ffc5-1ffd-4713-8172-9065cf12137b",
   "metadata": {},
   "outputs": [
    {
     "name": "stdout",
     "output_type": "stream",
     "text": [
      "Average Price of the Barry :  124.33333333333333\n",
      "Average Price of the Mary :  114.75\n"
     ]
    }
   ],
   "source": [
    "print('Average Price of the Barry : ', price_quotes.Barry_Price.mean())\n",
    "print('Average Price of the Mary : ', price_quotes.Mary_Price.mean())"
   ]
  },
  {
   "cell_type": "code",
   "execution_count": 452,
   "id": "72c36564-6231-46a4-97d9-f01785bbaaa7",
   "metadata": {},
   "outputs": [
    {
     "data": {
      "text/plain": [
       "TtestResult(statistic=2.5213765108923494, pvalue=0.02840588045242053, df=11)"
      ]
     },
     "execution_count": 452,
     "metadata": {},
     "output_type": "execute_result"
    }
   ],
   "source": [
    "stats.ttest_rel(price_quotes.Barry_Price , price_quotes.Mary_Price)"
   ]
  },
  {
   "cell_type": "markdown",
   "id": "ab58198e-87d9-4dc6-b1c7-57824f2ab11b",
   "metadata": {},
   "source": [
    "##### 5. Rejection Rule :\n",
    "\n",
    "            New P_value < 0.05 \n",
    "            hence, we Reject NULL Hypothesis.\n",
    "\n",
    "##### 6. Business conclusion :\n",
    "\n",
    "            There is difference between in the average price quotes provided by Mary and Barry."
   ]
  },
  {
   "cell_type": "markdown",
   "id": "91658014-7bb7-4166-a355-bfeffa19cfb2",
   "metadata": {},
   "source": [
    "### <center>BUSINESS PROBLEM-3:</center>\n",
    "\n",
    "**BUSINESS PROBLEM:** \n",
    "\n",
    "Determine what effect, if any, the reengineering effort had on the\n",
    "incidence behavioral problems and staff turnover. i.e To determine if the reengineering effort\n",
    "changed the critical incidence rate. Is there evidence that the critical incidence rate\n",
    "improved?"
   ]
  },
  {
   "cell_type": "code",
   "execution_count": 459,
   "id": "6047ccc3-6533-4a1c-82b2-378ca11298e2",
   "metadata": {},
   "outputs": [
    {
     "data": {
      "text/html": [
       "<div>\n",
       "<style scoped>\n",
       "    .dataframe tbody tr th:only-of-type {\n",
       "        vertical-align: middle;\n",
       "    }\n",
       "\n",
       "    .dataframe tbody tr th {\n",
       "        vertical-align: top;\n",
       "    }\n",
       "\n",
       "    .dataframe thead th {\n",
       "        text-align: right;\n",
       "    }\n",
       "</style>\n",
       "<table border=\"1\" class=\"dataframe\">\n",
       "  <thead>\n",
       "    <tr style=\"text-align: right;\">\n",
       "      <th></th>\n",
       "      <th>Month</th>\n",
       "      <th>Reengineer</th>\n",
       "      <th>Employee_Turnover</th>\n",
       "      <th>VAR4</th>\n",
       "      <th>VAR5</th>\n",
       "    </tr>\n",
       "  </thead>\n",
       "  <tbody>\n",
       "    <tr>\n",
       "      <th>0</th>\n",
       "      <td>1</td>\n",
       "      <td>Prior</td>\n",
       "      <td>0.0000</td>\n",
       "      <td>24.390244</td>\n",
       "      <td>42.682927</td>\n",
       "    </tr>\n",
       "    <tr>\n",
       "      <th>1</th>\n",
       "      <td>2</td>\n",
       "      <td>Prior</td>\n",
       "      <td>6.0606</td>\n",
       "      <td>19.354839</td>\n",
       "      <td>25.806452</td>\n",
       "    </tr>\n",
       "    <tr>\n",
       "      <th>2</th>\n",
       "      <td>3</td>\n",
       "      <td>Prior</td>\n",
       "      <td>12.1212</td>\n",
       "      <td>35.087719</td>\n",
       "      <td>146.198830</td>\n",
       "    </tr>\n",
       "    <tr>\n",
       "      <th>3</th>\n",
       "      <td>4</td>\n",
       "      <td>Prior</td>\n",
       "      <td>3.3333</td>\n",
       "      <td>18.404908</td>\n",
       "      <td>110.429448</td>\n",
       "    </tr>\n",
       "    <tr>\n",
       "      <th>4</th>\n",
       "      <td>5</td>\n",
       "      <td>Prior</td>\n",
       "      <td>12.9032</td>\n",
       "      <td>17.964072</td>\n",
       "      <td>23.952096</td>\n",
       "    </tr>\n",
       "  </tbody>\n",
       "</table>\n",
       "</div>"
      ],
      "text/plain": [
       "   Month Reengineer  Employee_Turnover       VAR4        VAR5\n",
       "0      1      Prior             0.0000  24.390244   42.682927\n",
       "1      2      Prior             6.0606  19.354839   25.806452\n",
       "2      3      Prior            12.1212  35.087719  146.198830\n",
       "3      4      Prior             3.3333  18.404908  110.429448\n",
       "4      5      Prior            12.9032  17.964072   23.952096"
      ]
     },
     "execution_count": 459,
     "metadata": {},
     "output_type": "execute_result"
    }
   ],
   "source": [
    "treatment = pd.read_csv(r\"C:\\Users\\hp\\Downloads\\Python Case Study\\4. Basic Statistics - Hypothesis Testing\\Treatment_Facility.csv\")\n",
    "treatment.head()"
   ]
  },
  {
   "cell_type": "code",
   "execution_count": 461,
   "id": "3cbc4b08-2590-4acb-af41-e7c11704491b",
   "metadata": {},
   "outputs": [
    {
     "data": {
      "text/plain": [
       "Month                0\n",
       "Reengineer           0\n",
       "Employee_Turnover    0\n",
       "VAR4                 0\n",
       "VAR5                 0\n",
       "dtype: int64"
      ]
     },
     "execution_count": 461,
     "metadata": {},
     "output_type": "execute_result"
    }
   ],
   "source": [
    "treatment.isna().sum()"
   ]
  },
  {
   "cell_type": "code",
   "execution_count": 465,
   "id": "2282f3a6-448c-4067-b878-64f32c130a67",
   "metadata": {},
   "outputs": [
    {
     "data": {
      "text/plain": [
       "Month                  int64\n",
       "Reengineer            object\n",
       "Employee_Turnover    float64\n",
       "VAR4                 float64\n",
       "VAR5                 float64\n",
       "dtype: object"
      ]
     },
     "execution_count": 465,
     "metadata": {},
     "output_type": "execute_result"
    }
   ],
   "source": [
    "treatment.dtypes"
   ]
  },
  {
   "cell_type": "code",
   "execution_count": 471,
   "id": "e67ebccf-120a-4d50-ba39-b67e3e8f6b6c",
   "metadata": {},
   "outputs": [
    {
     "data": {
      "text/html": [
       "<div>\n",
       "<style scoped>\n",
       "    .dataframe tbody tr th:only-of-type {\n",
       "        vertical-align: middle;\n",
       "    }\n",
       "\n",
       "    .dataframe tbody tr th {\n",
       "        vertical-align: top;\n",
       "    }\n",
       "\n",
       "    .dataframe thead th {\n",
       "        text-align: right;\n",
       "    }\n",
       "</style>\n",
       "<table border=\"1\" class=\"dataframe\">\n",
       "  <thead>\n",
       "    <tr style=\"text-align: right;\">\n",
       "      <th></th>\n",
       "      <th>Month</th>\n",
       "      <th>Reengineer</th>\n",
       "      <th>Employee_Turnover</th>\n",
       "      <th>TRPF(%)</th>\n",
       "      <th>CI(%)</th>\n",
       "    </tr>\n",
       "  </thead>\n",
       "  <tbody>\n",
       "    <tr>\n",
       "      <th>0</th>\n",
       "      <td>1</td>\n",
       "      <td>Prior</td>\n",
       "      <td>0.0000</td>\n",
       "      <td>24.390244</td>\n",
       "      <td>42.682927</td>\n",
       "    </tr>\n",
       "    <tr>\n",
       "      <th>1</th>\n",
       "      <td>2</td>\n",
       "      <td>Prior</td>\n",
       "      <td>6.0606</td>\n",
       "      <td>19.354839</td>\n",
       "      <td>25.806452</td>\n",
       "    </tr>\n",
       "    <tr>\n",
       "      <th>2</th>\n",
       "      <td>3</td>\n",
       "      <td>Prior</td>\n",
       "      <td>12.1212</td>\n",
       "      <td>35.087719</td>\n",
       "      <td>146.198830</td>\n",
       "    </tr>\n",
       "    <tr>\n",
       "      <th>3</th>\n",
       "      <td>4</td>\n",
       "      <td>Prior</td>\n",
       "      <td>3.3333</td>\n",
       "      <td>18.404908</td>\n",
       "      <td>110.429448</td>\n",
       "    </tr>\n",
       "    <tr>\n",
       "      <th>4</th>\n",
       "      <td>5</td>\n",
       "      <td>Prior</td>\n",
       "      <td>12.9032</td>\n",
       "      <td>17.964072</td>\n",
       "      <td>23.952096</td>\n",
       "    </tr>\n",
       "  </tbody>\n",
       "</table>\n",
       "</div>"
      ],
      "text/plain": [
       "   Month Reengineer  Employee_Turnover    TRPF(%)       CI(%)\n",
       "0      1      Prior             0.0000  24.390244   42.682927\n",
       "1      2      Prior             6.0606  19.354839   25.806452\n",
       "2      3      Prior            12.1212  35.087719  146.198830\n",
       "3      4      Prior             3.3333  18.404908  110.429448\n",
       "4      5      Prior            12.9032  17.964072   23.952096"
      ]
     },
     "execution_count": 471,
     "metadata": {},
     "output_type": "execute_result"
    }
   ],
   "source": [
    "treatment.rename(columns= {'VAR4':'TRPF(%)' , 'VAR5':'CI(%)'}, inplace= True)\n",
    "treatment.head()"
   ]
  },
  {
   "cell_type": "code",
   "execution_count": 473,
   "id": "1281a6df-5abc-48eb-8148-0af652560f29",
   "metadata": {},
   "outputs": [
    {
     "data": {
      "text/plain": [
       "Reengineer\n",
       "Prior    13\n",
       "Post      7\n",
       "Name: count, dtype: int64"
      ]
     },
     "execution_count": 473,
     "metadata": {},
     "output_type": "execute_result"
    }
   ],
   "source": [
    "treatment.Reengineer.value_counts()"
   ]
  },
  {
   "cell_type": "markdown",
   "id": "16cd0f6f-52b2-4bda-b704-a90cb2bf70a3",
   "metadata": {},
   "source": [
    "#####  1. NULL hypothesis , H0 :\n",
    "\n",
    "                u1 = u2\n",
    "                The reengineering effort not changed the critical incidence rate ------> the critical incidence rate is not improved\n",
    "\n",
    "#####  2. ALTERNATIVE hypothesis , Ha :\n",
    "\n",
    "                u1 <> u2\n",
    "                The reengineering effort changed the critical incidence rate --------> the critical incidence rate improved\n",
    "\n",
    "##### 3. CI & p-values :\n",
    "\n",
    "                CI= 95% , p-value=0.05\n",
    "\n",
    "##### 4. Perform the test :\n",
    "\n",
    "                t-test"
   ]
  },
  {
   "cell_type": "code",
   "execution_count": 478,
   "id": "a32fc9b1-52a3-4ac4-8b09-79f03038a54a",
   "metadata": {},
   "outputs": [
    {
     "name": "stdout",
     "output_type": "stream",
     "text": [
      "CI Mean of the Prior Reengineer :  53.887906321846145\n",
      "CI Mean of the Post Reengineer :  23.34971927988571\n"
     ]
    }
   ],
   "source": [
    "m1= treatment.loc[treatment.Reengineer == 'Prior', 'CI(%)']\n",
    "m2= treatment.loc[treatment.Reengineer == 'Post', 'CI(%)']\n",
    "print('CI Mean of the Prior Reengineer : ', m1.mean())\n",
    "print('CI Mean of the Post Reengineer : ', m2.mean())"
   ]
  },
  {
   "cell_type": "code",
   "execution_count": 487,
   "id": "58275d27-db00-47e1-ba71-831c67674cef",
   "metadata": {},
   "outputs": [
    {
     "data": {
      "text/plain": [
       "TtestResult(statistic=1.627914425352865, pvalue=0.12091989189884148, df=18.0)"
      ]
     },
     "execution_count": 487,
     "metadata": {},
     "output_type": "execute_result"
    }
   ],
   "source": [
    "stats.ttest_ind(m1 , m2)"
   ]
  },
  {
   "cell_type": "markdown",
   "id": "15cd0647-a6c1-4742-b405-4f8197297424",
   "metadata": {},
   "source": [
    "##### 5. Rejection Rule :\n",
    "\n",
    "            New P_value > 0.05 \n",
    "            hence, we will not Reject NULL Hypothesis.\n",
    "\n",
    "##### 6. Business conclusion :\n",
    "\n",
    "            The critical incidence rate is not improved after the POST reengineer."
   ]
  },
  {
   "cell_type": "markdown",
   "id": "4c5e2382-462e-4ae5-aa22-2f30c72922df",
   "metadata": {},
   "source": [
    "### <center>BUSINESS PROBLEM-4</center>\n",
    "\n",
    "**BUSINESS PROBLEM:** \n",
    "\n",
    "We will focus on the prioritization system. If the system is working, then\n",
    "high priority jobs, on average, should be completed more quickly than medium priority jobs,\n",
    "and medium priority jobs should be completed more quickly than low priority jobs. Use the\n",
    "data provided to determine whether this is, in fact, occurring."
   ]
  },
  {
   "cell_type": "code",
   "execution_count": 704,
   "id": "181ac0a6-6713-46a2-8be6-a3f8a0d6a0c3",
   "metadata": {},
   "outputs": [
    {
     "data": {
      "text/html": [
       "<div>\n",
       "<style scoped>\n",
       "    .dataframe tbody tr th:only-of-type {\n",
       "        vertical-align: middle;\n",
       "    }\n",
       "\n",
       "    .dataframe tbody tr th {\n",
       "        vertical-align: top;\n",
       "    }\n",
       "\n",
       "    .dataframe thead th {\n",
       "        text-align: right;\n",
       "    }\n",
       "</style>\n",
       "<table border=\"1\" class=\"dataframe\">\n",
       "  <thead>\n",
       "    <tr style=\"text-align: right;\">\n",
       "      <th></th>\n",
       "      <th>Days</th>\n",
       "      <th>Priority</th>\n",
       "    </tr>\n",
       "  </thead>\n",
       "  <tbody>\n",
       "    <tr>\n",
       "      <th>0</th>\n",
       "      <td>3.3</td>\n",
       "      <td>High</td>\n",
       "    </tr>\n",
       "    <tr>\n",
       "      <th>1</th>\n",
       "      <td>7.9</td>\n",
       "      <td>Medium</td>\n",
       "    </tr>\n",
       "    <tr>\n",
       "      <th>2</th>\n",
       "      <td>0.3</td>\n",
       "      <td>High</td>\n",
       "    </tr>\n",
       "    <tr>\n",
       "      <th>3</th>\n",
       "      <td>0.7</td>\n",
       "      <td>Medium</td>\n",
       "    </tr>\n",
       "    <tr>\n",
       "      <th>4</th>\n",
       "      <td>8.6</td>\n",
       "      <td>Medium</td>\n",
       "    </tr>\n",
       "    <tr>\n",
       "      <th>...</th>\n",
       "      <td>...</td>\n",
       "      <td>...</td>\n",
       "    </tr>\n",
       "    <tr>\n",
       "      <th>637</th>\n",
       "      <td>2.5</td>\n",
       "      <td>Low</td>\n",
       "    </tr>\n",
       "    <tr>\n",
       "      <th>638</th>\n",
       "      <td>0.3</td>\n",
       "      <td>High</td>\n",
       "    </tr>\n",
       "    <tr>\n",
       "      <th>639</th>\n",
       "      <td>0.3</td>\n",
       "      <td>Medium</td>\n",
       "    </tr>\n",
       "    <tr>\n",
       "      <th>640</th>\n",
       "      <td>1.3</td>\n",
       "      <td>Medium</td>\n",
       "    </tr>\n",
       "    <tr>\n",
       "      <th>641</th>\n",
       "      <td>0.5</td>\n",
       "      <td>High</td>\n",
       "    </tr>\n",
       "  </tbody>\n",
       "</table>\n",
       "<p>642 rows × 2 columns</p>\n",
       "</div>"
      ],
      "text/plain": [
       "     Days Priority\n",
       "0     3.3     High\n",
       "1     7.9   Medium\n",
       "2     0.3     High\n",
       "3     0.7   Medium\n",
       "4     8.6   Medium\n",
       "..    ...      ...\n",
       "637   2.5      Low\n",
       "638   0.3     High\n",
       "639   0.3   Medium\n",
       "640   1.3   Medium\n",
       "641   0.5     High\n",
       "\n",
       "[642 rows x 2 columns]"
      ]
     },
     "execution_count": 704,
     "metadata": {},
     "output_type": "execute_result"
    }
   ],
   "source": [
    "priority_ass= pd.read_csv(r\"C:\\Users\\hp\\Downloads\\Python Case Study\\4. Basic Statistics - Hypothesis Testing\\Priority_Assessment.csv\")\n",
    "priority_ass"
   ]
  },
  {
   "cell_type": "markdown",
   "id": "3c5d9ae7-4963-4778-98db-df250cb29506",
   "metadata": {},
   "source": [
    "#####  1. NULL hypothesis , H0 :\n",
    "\n",
    "                u1 = u2 =u3\n",
    "                All priority levels have the same average completion time --------> The system is not working.\n",
    "\n",
    "#####  2. ALTERNATIVE hypothesis , Ha :\n",
    "\n",
    "                u1 <> u2 <>u3\n",
    "                At least one group has a different mean ------> The new system is working.\n",
    "\n",
    "##### 3. CI & p-values :\n",
    "\n",
    "                CI= 95% , p-value=0.05\n",
    "\n",
    "##### 4. Perform the test :\n",
    "\n",
    "                f-test | ANOVA test"
   ]
  },
  {
   "cell_type": "code",
   "execution_count": 707,
   "id": "51189769-1ab0-41d2-a572-85c1e540cd96",
   "metadata": {},
   "outputs": [
    {
     "name": "stdout",
     "output_type": "stream",
     "text": [
      "Mean days of the High priorit work :  3.0236196319018402\n",
      "Mean days of the Medium priorit work :  2.5\n",
      "Mean days of the Low priorit work :  4.228358208955224\n"
     ]
    }
   ],
   "source": [
    "m1= priority_ass.loc[priority_ass.Priority == 'High' , 'Days']\n",
    "m2= priority_ass.loc[priority_ass.Priority == 'Medium' , 'Days']\n",
    "m3= priority_ass.loc[priority_ass.Priority == 'Low' , 'Days']\n",
    "print('Mean days of the High priorit work : ', m1.mean())\n",
    "print('Mean days of the Medium priorit work : ', m2.mean())\n",
    "print('Mean days of the Low priorit work : ', m3.mean())"
   ]
  },
  {
   "cell_type": "code",
   "execution_count": 709,
   "id": "e0ec90bb-194f-4b2e-8001-933775c07847",
   "metadata": {},
   "outputs": [
    {
     "data": {
      "text/plain": [
       "F_onewayResult(statistic=1.812311010076072, pvalue=0.16411459461716182)"
      ]
     },
     "execution_count": 709,
     "metadata": {},
     "output_type": "execute_result"
    }
   ],
   "source": [
    "stats.f_oneway(m1 , m2 , m3)"
   ]
  },
  {
   "cell_type": "markdown",
   "id": "4d6009b2-8aa4-465a-a367-6a66d2fa3372",
   "metadata": {},
   "source": [
    "##### 5. Rejection Rule :\n",
    "\n",
    "            New P_value > 0.05 \n",
    "            hence, we will not Reject NULL Hypothesis.\n",
    "\n",
    "##### 6. Business conclusion :\n",
    "\n",
    "             The system is not working.\n",
    "             There is no statistically significant evidence that job priority affects completion time."
   ]
  },
  {
   "cell_type": "markdown",
   "id": "8ff9d603-48b8-4283-8fa7-fe2fedcef99d",
   "metadata": {},
   "source": [
    "### <center> BUSINESS PROBLEM-5 </center>\n",
    "\n",
    "BUSINESS PROBLEM: Use the survey results to address the following questions\n",
    "* What is the overall level of customer satisfaction?\n",
    "* What factors are linked to satisfaction?\n",
    "* What is the demographic profile of Film on the Rocks patrons?\n",
    "* In what media outlet(s) should the film series be advertised?"
   ]
  },
  {
   "cell_type": "code",
   "execution_count": 713,
   "id": "bb1b6e90-7fda-43c1-a436-36a11782c734",
   "metadata": {},
   "outputs": [
    {
     "data": {
      "text/html": [
       "<div>\n",
       "<style scoped>\n",
       "    .dataframe tbody tr th:only-of-type {\n",
       "        vertical-align: middle;\n",
       "    }\n",
       "\n",
       "    .dataframe tbody tr th {\n",
       "        vertical-align: top;\n",
       "    }\n",
       "\n",
       "    .dataframe thead th {\n",
       "        text-align: right;\n",
       "    }\n",
       "</style>\n",
       "<table border=\"1\" class=\"dataframe\">\n",
       "  <thead>\n",
       "    <tr style=\"text-align: right;\">\n",
       "      <th></th>\n",
       "      <th>_rowstate_</th>\n",
       "      <th>Movie</th>\n",
       "      <th>Gender</th>\n",
       "      <th>Marital_Status</th>\n",
       "      <th>Sinage</th>\n",
       "      <th>Parking</th>\n",
       "      <th>Clean</th>\n",
       "      <th>Overall</th>\n",
       "      <th>Age</th>\n",
       "      <th>Income</th>\n",
       "      <th>Hear_About</th>\n",
       "    </tr>\n",
       "  </thead>\n",
       "  <tbody>\n",
       "    <tr>\n",
       "      <th>0</th>\n",
       "      <td>0</td>\n",
       "      <td>Ferris Buellers Day Off</td>\n",
       "      <td>Female</td>\n",
       "      <td>Married</td>\n",
       "      <td>2.0</td>\n",
       "      <td>2.0</td>\n",
       "      <td>2.0</td>\n",
       "      <td>2.0</td>\n",
       "      <td>3.0</td>\n",
       "      <td>1.0</td>\n",
       "      <td>5</td>\n",
       "    </tr>\n",
       "    <tr>\n",
       "      <th>1</th>\n",
       "      <td>0</td>\n",
       "      <td>Ferris Buellers Day Off</td>\n",
       "      <td>Female</td>\n",
       "      <td>Single</td>\n",
       "      <td>1.0</td>\n",
       "      <td>1.0</td>\n",
       "      <td>1.0</td>\n",
       "      <td>1.0</td>\n",
       "      <td>2.0</td>\n",
       "      <td>1.0</td>\n",
       "      <td>5</td>\n",
       "    </tr>\n",
       "    <tr>\n",
       "      <th>2</th>\n",
       "      <td>0</td>\n",
       "      <td>Ferris Buellers Day Off</td>\n",
       "      <td>Male</td>\n",
       "      <td>Married</td>\n",
       "      <td>2.0</td>\n",
       "      <td>4.0</td>\n",
       "      <td>3.0</td>\n",
       "      <td>2.0</td>\n",
       "      <td>4.0</td>\n",
       "      <td>1.0</td>\n",
       "      <td>5</td>\n",
       "    </tr>\n",
       "    <tr>\n",
       "      <th>3</th>\n",
       "      <td>0</td>\n",
       "      <td>Ferris Buellers Day Off</td>\n",
       "      <td>Female</td>\n",
       "      <td>Married</td>\n",
       "      <td>1.0</td>\n",
       "      <td>3.0</td>\n",
       "      <td>2.0</td>\n",
       "      <td>2.0</td>\n",
       "      <td>4.0</td>\n",
       "      <td>1.0</td>\n",
       "      <td>5</td>\n",
       "    </tr>\n",
       "    <tr>\n",
       "      <th>4</th>\n",
       "      <td>0</td>\n",
       "      <td>Ferris Buellers Day Off</td>\n",
       "      <td>Female</td>\n",
       "      <td>Married</td>\n",
       "      <td>1.0</td>\n",
       "      <td>1.0</td>\n",
       "      <td>1.0</td>\n",
       "      <td>1.0</td>\n",
       "      <td>3.0</td>\n",
       "      <td>3.0</td>\n",
       "      <td>1</td>\n",
       "    </tr>\n",
       "    <tr>\n",
       "      <th>...</th>\n",
       "      <td>...</td>\n",
       "      <td>...</td>\n",
       "      <td>...</td>\n",
       "      <td>...</td>\n",
       "      <td>...</td>\n",
       "      <td>...</td>\n",
       "      <td>...</td>\n",
       "      <td>...</td>\n",
       "      <td>...</td>\n",
       "      <td>...</td>\n",
       "      <td>...</td>\n",
       "    </tr>\n",
       "    <tr>\n",
       "      <th>325</th>\n",
       "      <td>0</td>\n",
       "      <td>Old School</td>\n",
       "      <td>2</td>\n",
       "      <td>2</td>\n",
       "      <td>1.0</td>\n",
       "      <td>2.0</td>\n",
       "      <td>1.0</td>\n",
       "      <td>1.0</td>\n",
       "      <td>2.0</td>\n",
       "      <td>1.0</td>\n",
       "      <td>1</td>\n",
       "    </tr>\n",
       "    <tr>\n",
       "      <th>326</th>\n",
       "      <td>0</td>\n",
       "      <td>Old School</td>\n",
       "      <td>1</td>\n",
       "      <td>1</td>\n",
       "      <td>2.0</td>\n",
       "      <td>2.0</td>\n",
       "      <td>2.0</td>\n",
       "      <td>2.0</td>\n",
       "      <td>3.0</td>\n",
       "      <td>3.0</td>\n",
       "      <td>5</td>\n",
       "    </tr>\n",
       "    <tr>\n",
       "      <th>327</th>\n",
       "      <td>0</td>\n",
       "      <td>Old School</td>\n",
       "      <td>2</td>\n",
       "      <td>1</td>\n",
       "      <td>2.0</td>\n",
       "      <td>1.0</td>\n",
       "      <td>1.0</td>\n",
       "      <td>2.0</td>\n",
       "      <td>2.0</td>\n",
       "      <td>2.0</td>\n",
       "      <td>5</td>\n",
       "    </tr>\n",
       "    <tr>\n",
       "      <th>328</th>\n",
       "      <td>0</td>\n",
       "      <td>Old School</td>\n",
       "      <td>1</td>\n",
       "      <td>1</td>\n",
       "      <td>1.0</td>\n",
       "      <td>1.0</td>\n",
       "      <td>1.0</td>\n",
       "      <td>1.0</td>\n",
       "      <td>2.0</td>\n",
       "      <td>1.0</td>\n",
       "      <td>3</td>\n",
       "    </tr>\n",
       "    <tr>\n",
       "      <th>329</th>\n",
       "      <td>0</td>\n",
       "      <td>Old School</td>\n",
       "      <td>2</td>\n",
       "      <td>2</td>\n",
       "      <td>2.0</td>\n",
       "      <td>2.0</td>\n",
       "      <td>3.0</td>\n",
       "      <td>1.0</td>\n",
       "      <td>2.0</td>\n",
       "      <td>1.0</td>\n",
       "      <td>5</td>\n",
       "    </tr>\n",
       "  </tbody>\n",
       "</table>\n",
       "<p>330 rows × 11 columns</p>\n",
       "</div>"
      ],
      "text/plain": [
       "     _rowstate_                    Movie  Gender Marital_Status  Sinage  \\\n",
       "0             0  Ferris Buellers Day Off  Female        Married     2.0   \n",
       "1             0  Ferris Buellers Day Off  Female         Single     1.0   \n",
       "2             0  Ferris Buellers Day Off    Male        Married     2.0   \n",
       "3             0  Ferris Buellers Day Off  Female        Married     1.0   \n",
       "4             0  Ferris Buellers Day Off  Female        Married     1.0   \n",
       "..          ...                      ...     ...            ...     ...   \n",
       "325           0               Old School       2              2     1.0   \n",
       "326           0               Old School       1              1     2.0   \n",
       "327           0               Old School       2              1     2.0   \n",
       "328           0               Old School       1              1     1.0   \n",
       "329           0               Old School       2              2     2.0   \n",
       "\n",
       "     Parking  Clean  Overall  Age  Income Hear_About  \n",
       "0        2.0    2.0      2.0  3.0     1.0          5  \n",
       "1        1.0    1.0      1.0  2.0     1.0          5  \n",
       "2        4.0    3.0      2.0  4.0     1.0          5  \n",
       "3        3.0    2.0      2.0  4.0     1.0          5  \n",
       "4        1.0    1.0      1.0  3.0     3.0          1  \n",
       "..       ...    ...      ...  ...     ...        ...  \n",
       "325      2.0    1.0      1.0  2.0     1.0          1  \n",
       "326      2.0    2.0      2.0  3.0     3.0          5  \n",
       "327      1.0    1.0      2.0  2.0     2.0          5  \n",
       "328      1.0    1.0      1.0  2.0     1.0          3  \n",
       "329      2.0    3.0      1.0  2.0     1.0          5  \n",
       "\n",
       "[330 rows x 11 columns]"
      ]
     },
     "execution_count": 713,
     "metadata": {},
     "output_type": "execute_result"
    }
   ],
   "source": [
    "films= pd.read_csv(r\"C:\\Users\\hp\\Downloads\\Python Case Study\\4. Basic Statistics - Hypothesis Testing\\Films.csv\")\n",
    "films"
   ]
  },
  {
   "cell_type": "code",
   "execution_count": 715,
   "id": "937743e6-cda6-47ef-99ab-3a9b591dfb1f",
   "metadata": {},
   "outputs": [
    {
     "data": {
      "text/plain": [
       "Marital_Status\n",
       "1           88\n",
       "2          208\n",
       "Married     12\n",
       "Single      18\n",
       "Slngle       2\n",
       "Name: Gender, dtype: int64"
      ]
     },
     "execution_count": 715,
     "metadata": {},
     "output_type": "execute_result"
    }
   ],
   "source": [
    "films.groupby('Marital_Status').Gender.count()"
   ]
  },
  {
   "cell_type": "code",
   "execution_count": 717,
   "id": "144f4b60-ca06-46b9-9d75-f85dc328e6a1",
   "metadata": {},
   "outputs": [],
   "source": [
    "films['Marital_Status']= films.Marital_Status.replace('Slngle','Single')"
   ]
  },
  {
   "cell_type": "code",
   "execution_count": 719,
   "id": "69b34d47-405d-40a6-88fa-40876b59d244",
   "metadata": {},
   "outputs": [
    {
     "data": {
      "text/plain": [
       "Marital_Status\n",
       "1           88\n",
       "2          208\n",
       "Married     12\n",
       "Single      20\n",
       "Name: Gender, dtype: int64"
      ]
     },
     "execution_count": 719,
     "metadata": {},
     "output_type": "execute_result"
    }
   ],
   "source": [
    "films.groupby('Marital_Status').Gender.count()"
   ]
  },
  {
   "cell_type": "code",
   "execution_count": 721,
   "id": "16634a90-dd37-4076-bf64-c12b51069768",
   "metadata": {},
   "outputs": [
    {
     "data": {
      "text/plain": [
       "_rowstate_         0\n",
       "Movie              0\n",
       "Gender             0\n",
       "Marital_Status     2\n",
       "Sinage             2\n",
       "Parking            2\n",
       "Clean              3\n",
       "Overall            2\n",
       "Age                2\n",
       "Income            16\n",
       "Hear_About         7\n",
       "dtype: int64"
      ]
     },
     "execution_count": 721,
     "metadata": {},
     "output_type": "execute_result"
    }
   ],
   "source": [
    "films.isna().sum()"
   ]
  },
  {
   "cell_type": "code",
   "execution_count": 723,
   "id": "da573125-1faa-4d7e-920d-13ebc00b1c50",
   "metadata": {},
   "outputs": [
    {
     "data": {
      "text/plain": [
       "46"
      ]
     },
     "execution_count": 723,
     "metadata": {},
     "output_type": "execute_result"
    }
   ],
   "source": [
    "films.duplicated().sum()"
   ]
  },
  {
   "cell_type": "code",
   "execution_count": 725,
   "id": "fe7fd017-6a9f-49e9-843f-00c73009caeb",
   "metadata": {},
   "outputs": [],
   "source": [
    "films.drop_duplicates(inplace=True)"
   ]
  },
  {
   "cell_type": "code",
   "execution_count": 727,
   "id": "cd792e6f-89ae-439a-abb6-3b9c5d2cdb54",
   "metadata": {},
   "outputs": [
    {
     "data": {
      "text/plain": [
       "0"
      ]
     },
     "execution_count": 727,
     "metadata": {},
     "output_type": "execute_result"
    }
   ],
   "source": [
    "films.duplicated().sum()"
   ]
  },
  {
   "cell_type": "code",
   "execution_count": 729,
   "id": "48e2303d-3255-4fef-b0b6-0e96d0311f29",
   "metadata": {},
   "outputs": [],
   "source": [
    "films['Marital_Status']= films.Marital_Status.replace({'1':'Married','2':'Single'})"
   ]
  },
  {
   "cell_type": "code",
   "execution_count": 731,
   "id": "771e1b39-f662-4e7d-a4a5-9180bd967763",
   "metadata": {},
   "outputs": [],
   "source": [
    "films['Gender'] = films.Gender.replace({'1':'Male','2':'Female'})"
   ]
  },
  {
   "cell_type": "code",
   "execution_count": 733,
   "id": "7f2443c1-c2f3-4cd7-acb3-720b7c00aa78",
   "metadata": {},
   "outputs": [
    {
     "data": {
      "text/html": [
       "<div>\n",
       "<style scoped>\n",
       "    .dataframe tbody tr th:only-of-type {\n",
       "        vertical-align: middle;\n",
       "    }\n",
       "\n",
       "    .dataframe tbody tr th {\n",
       "        vertical-align: top;\n",
       "    }\n",
       "\n",
       "    .dataframe thead th {\n",
       "        text-align: right;\n",
       "    }\n",
       "</style>\n",
       "<table border=\"1\" class=\"dataframe\">\n",
       "  <thead>\n",
       "    <tr style=\"text-align: right;\">\n",
       "      <th></th>\n",
       "      <th>_rowstate_</th>\n",
       "      <th>Movie</th>\n",
       "      <th>Gender</th>\n",
       "      <th>Marital_Status</th>\n",
       "      <th>Sinage</th>\n",
       "      <th>Parking</th>\n",
       "      <th>Clean</th>\n",
       "      <th>Overall</th>\n",
       "      <th>Age</th>\n",
       "      <th>Income</th>\n",
       "      <th>Hear_About</th>\n",
       "    </tr>\n",
       "  </thead>\n",
       "  <tbody>\n",
       "    <tr>\n",
       "      <th>0</th>\n",
       "      <td>0</td>\n",
       "      <td>Ferris Buellers Day Off</td>\n",
       "      <td>Female</td>\n",
       "      <td>Married</td>\n",
       "      <td>2.0</td>\n",
       "      <td>2.0</td>\n",
       "      <td>2.0</td>\n",
       "      <td>2.0</td>\n",
       "      <td>3.0</td>\n",
       "      <td>1.0</td>\n",
       "      <td>5</td>\n",
       "    </tr>\n",
       "    <tr>\n",
       "      <th>1</th>\n",
       "      <td>0</td>\n",
       "      <td>Ferris Buellers Day Off</td>\n",
       "      <td>Female</td>\n",
       "      <td>Single</td>\n",
       "      <td>1.0</td>\n",
       "      <td>1.0</td>\n",
       "      <td>1.0</td>\n",
       "      <td>1.0</td>\n",
       "      <td>2.0</td>\n",
       "      <td>1.0</td>\n",
       "      <td>5</td>\n",
       "    </tr>\n",
       "    <tr>\n",
       "      <th>2</th>\n",
       "      <td>0</td>\n",
       "      <td>Ferris Buellers Day Off</td>\n",
       "      <td>Male</td>\n",
       "      <td>Married</td>\n",
       "      <td>2.0</td>\n",
       "      <td>4.0</td>\n",
       "      <td>3.0</td>\n",
       "      <td>2.0</td>\n",
       "      <td>4.0</td>\n",
       "      <td>1.0</td>\n",
       "      <td>5</td>\n",
       "    </tr>\n",
       "    <tr>\n",
       "      <th>3</th>\n",
       "      <td>0</td>\n",
       "      <td>Ferris Buellers Day Off</td>\n",
       "      <td>Female</td>\n",
       "      <td>Married</td>\n",
       "      <td>1.0</td>\n",
       "      <td>3.0</td>\n",
       "      <td>2.0</td>\n",
       "      <td>2.0</td>\n",
       "      <td>4.0</td>\n",
       "      <td>1.0</td>\n",
       "      <td>5</td>\n",
       "    </tr>\n",
       "    <tr>\n",
       "      <th>4</th>\n",
       "      <td>0</td>\n",
       "      <td>Ferris Buellers Day Off</td>\n",
       "      <td>Female</td>\n",
       "      <td>Married</td>\n",
       "      <td>1.0</td>\n",
       "      <td>1.0</td>\n",
       "      <td>1.0</td>\n",
       "      <td>1.0</td>\n",
       "      <td>3.0</td>\n",
       "      <td>3.0</td>\n",
       "      <td>1</td>\n",
       "    </tr>\n",
       "    <tr>\n",
       "      <th>...</th>\n",
       "      <td>...</td>\n",
       "      <td>...</td>\n",
       "      <td>...</td>\n",
       "      <td>...</td>\n",
       "      <td>...</td>\n",
       "      <td>...</td>\n",
       "      <td>...</td>\n",
       "      <td>...</td>\n",
       "      <td>...</td>\n",
       "      <td>...</td>\n",
       "      <td>...</td>\n",
       "    </tr>\n",
       "    <tr>\n",
       "      <th>325</th>\n",
       "      <td>0</td>\n",
       "      <td>Old School</td>\n",
       "      <td>Female</td>\n",
       "      <td>Single</td>\n",
       "      <td>1.0</td>\n",
       "      <td>2.0</td>\n",
       "      <td>1.0</td>\n",
       "      <td>1.0</td>\n",
       "      <td>2.0</td>\n",
       "      <td>1.0</td>\n",
       "      <td>1</td>\n",
       "    </tr>\n",
       "    <tr>\n",
       "      <th>326</th>\n",
       "      <td>0</td>\n",
       "      <td>Old School</td>\n",
       "      <td>Male</td>\n",
       "      <td>Married</td>\n",
       "      <td>2.0</td>\n",
       "      <td>2.0</td>\n",
       "      <td>2.0</td>\n",
       "      <td>2.0</td>\n",
       "      <td>3.0</td>\n",
       "      <td>3.0</td>\n",
       "      <td>5</td>\n",
       "    </tr>\n",
       "    <tr>\n",
       "      <th>327</th>\n",
       "      <td>0</td>\n",
       "      <td>Old School</td>\n",
       "      <td>Female</td>\n",
       "      <td>Married</td>\n",
       "      <td>2.0</td>\n",
       "      <td>1.0</td>\n",
       "      <td>1.0</td>\n",
       "      <td>2.0</td>\n",
       "      <td>2.0</td>\n",
       "      <td>2.0</td>\n",
       "      <td>5</td>\n",
       "    </tr>\n",
       "    <tr>\n",
       "      <th>328</th>\n",
       "      <td>0</td>\n",
       "      <td>Old School</td>\n",
       "      <td>Male</td>\n",
       "      <td>Married</td>\n",
       "      <td>1.0</td>\n",
       "      <td>1.0</td>\n",
       "      <td>1.0</td>\n",
       "      <td>1.0</td>\n",
       "      <td>2.0</td>\n",
       "      <td>1.0</td>\n",
       "      <td>3</td>\n",
       "    </tr>\n",
       "    <tr>\n",
       "      <th>329</th>\n",
       "      <td>0</td>\n",
       "      <td>Old School</td>\n",
       "      <td>Female</td>\n",
       "      <td>Single</td>\n",
       "      <td>2.0</td>\n",
       "      <td>2.0</td>\n",
       "      <td>3.0</td>\n",
       "      <td>1.0</td>\n",
       "      <td>2.0</td>\n",
       "      <td>1.0</td>\n",
       "      <td>5</td>\n",
       "    </tr>\n",
       "  </tbody>\n",
       "</table>\n",
       "<p>284 rows × 11 columns</p>\n",
       "</div>"
      ],
      "text/plain": [
       "     _rowstate_                    Movie  Gender Marital_Status  Sinage  \\\n",
       "0             0  Ferris Buellers Day Off  Female        Married     2.0   \n",
       "1             0  Ferris Buellers Day Off  Female         Single     1.0   \n",
       "2             0  Ferris Buellers Day Off    Male        Married     2.0   \n",
       "3             0  Ferris Buellers Day Off  Female        Married     1.0   \n",
       "4             0  Ferris Buellers Day Off  Female        Married     1.0   \n",
       "..          ...                      ...     ...            ...     ...   \n",
       "325           0               Old School  Female         Single     1.0   \n",
       "326           0               Old School    Male        Married     2.0   \n",
       "327           0               Old School  Female        Married     2.0   \n",
       "328           0               Old School    Male        Married     1.0   \n",
       "329           0               Old School  Female         Single     2.0   \n",
       "\n",
       "     Parking  Clean  Overall  Age  Income Hear_About  \n",
       "0        2.0    2.0      2.0  3.0     1.0          5  \n",
       "1        1.0    1.0      1.0  2.0     1.0          5  \n",
       "2        4.0    3.0      2.0  4.0     1.0          5  \n",
       "3        3.0    2.0      2.0  4.0     1.0          5  \n",
       "4        1.0    1.0      1.0  3.0     3.0          1  \n",
       "..       ...    ...      ...  ...     ...        ...  \n",
       "325      2.0    1.0      1.0  2.0     1.0          1  \n",
       "326      2.0    2.0      2.0  3.0     3.0          5  \n",
       "327      1.0    1.0      2.0  2.0     2.0          5  \n",
       "328      1.0    1.0      1.0  2.0     1.0          3  \n",
       "329      2.0    3.0      1.0  2.0     1.0          5  \n",
       "\n",
       "[284 rows x 11 columns]"
      ]
     },
     "execution_count": 733,
     "metadata": {},
     "output_type": "execute_result"
    }
   ],
   "source": [
    "films"
   ]
  },
  {
   "cell_type": "markdown",
   "id": "985e5967-1bda-4aa9-a157-7a4d38337557",
   "metadata": {},
   "source": [
    "#### (a.) What is the overall level of customer satisfaction?"
   ]
  },
  {
   "cell_type": "code",
   "execution_count": 738,
   "id": "3cd02fdb-4e18-4f34-9037-411ec8810f53",
   "metadata": {},
   "outputs": [
    {
     "data": {
      "text/plain": [
       "Overall\n",
       "2.0    134\n",
       "1.0    131\n",
       "3.0     12\n",
       "5.0      4\n",
       "4.0      1\n",
       "Name: count, dtype: int64"
      ]
     },
     "execution_count": 738,
     "metadata": {},
     "output_type": "execute_result"
    }
   ],
   "source": [
    "films.Overall.value_counts()"
   ]
  },
  {
   "cell_type": "markdown",
   "id": "7e448029-c2cc-4c5b-a1bf-590b720faba7",
   "metadata": {},
   "source": [
    "##### Overall level of consumer satisfaction is mostly 2 and 1 , that is GOOD and EXCELLENT."
   ]
  },
  {
   "cell_type": "markdown",
   "id": "3144cfd4-b721-43d2-b51d-c2cbf08fe239",
   "metadata": {},
   "source": [
    "#### (b.) What factors are linked to satisfaction?"
   ]
  },
  {
   "cell_type": "code",
   "execution_count": null,
   "id": "1f39578e-6b4e-41fe-b6b3-410535aa58c1",
   "metadata": {},
   "outputs": [],
   "source": []
  },
  {
   "cell_type": "markdown",
   "id": "d52c08bf-a405-4d7b-9c89-e800290ca29f",
   "metadata": {},
   "source": [
    "#####  1. NULL hypothesis , H0 :\n",
    "\n",
    "                There is no relationship between Overall and Clean.\n",
    "\n",
    "#####  2. ALTERNATIVE hypothesis , Ha :\n",
    "\n",
    "                There is relationship between Overall and Clean.\n",
    "\n",
    "##### 3. CI & p-values :\n",
    "\n",
    "                CI= 95% , p-value=0.05\n",
    "\n",
    "##### 4. Perform the test :\n",
    "\n",
    "                chi-squared test"
   ]
  },
  {
   "cell_type": "code",
   "execution_count": 753,
   "id": "c3f7906c-2262-473c-9578-4c587f3fa70e",
   "metadata": {},
   "outputs": [
    {
     "data": {
      "text/html": [
       "<div>\n",
       "<style scoped>\n",
       "    .dataframe tbody tr th:only-of-type {\n",
       "        vertical-align: middle;\n",
       "    }\n",
       "\n",
       "    .dataframe tbody tr th {\n",
       "        vertical-align: top;\n",
       "    }\n",
       "\n",
       "    .dataframe thead th {\n",
       "        text-align: right;\n",
       "    }\n",
       "</style>\n",
       "<table border=\"1\" class=\"dataframe\">\n",
       "  <thead>\n",
       "    <tr style=\"text-align: right;\">\n",
       "      <th>Clean</th>\n",
       "      <th>1.0</th>\n",
       "      <th>2.0</th>\n",
       "      <th>3.0</th>\n",
       "      <th>4.0</th>\n",
       "      <th>5.0</th>\n",
       "    </tr>\n",
       "    <tr>\n",
       "      <th>Overall</th>\n",
       "      <th></th>\n",
       "      <th></th>\n",
       "      <th></th>\n",
       "      <th></th>\n",
       "      <th></th>\n",
       "    </tr>\n",
       "  </thead>\n",
       "  <tbody>\n",
       "    <tr>\n",
       "      <th>1.0</th>\n",
       "      <td>85</td>\n",
       "      <td>39</td>\n",
       "      <td>5</td>\n",
       "      <td>1</td>\n",
       "      <td>1</td>\n",
       "    </tr>\n",
       "    <tr>\n",
       "      <th>2.0</th>\n",
       "      <td>32</td>\n",
       "      <td>84</td>\n",
       "      <td>14</td>\n",
       "      <td>3</td>\n",
       "      <td>0</td>\n",
       "    </tr>\n",
       "    <tr>\n",
       "      <th>3.0</th>\n",
       "      <td>3</td>\n",
       "      <td>5</td>\n",
       "      <td>4</td>\n",
       "      <td>0</td>\n",
       "      <td>0</td>\n",
       "    </tr>\n",
       "    <tr>\n",
       "      <th>4.0</th>\n",
       "      <td>0</td>\n",
       "      <td>1</td>\n",
       "      <td>0</td>\n",
       "      <td>0</td>\n",
       "      <td>0</td>\n",
       "    </tr>\n",
       "    <tr>\n",
       "      <th>5.0</th>\n",
       "      <td>2</td>\n",
       "      <td>1</td>\n",
       "      <td>0</td>\n",
       "      <td>0</td>\n",
       "      <td>1</td>\n",
       "    </tr>\n",
       "  </tbody>\n",
       "</table>\n",
       "</div>"
      ],
      "text/plain": [
       "Clean    1.0  2.0  3.0  4.0  5.0\n",
       "Overall                         \n",
       "1.0       85   39    5    1    1\n",
       "2.0       32   84   14    3    0\n",
       "3.0        3    5    4    0    0\n",
       "4.0        0    1    0    0    0\n",
       "5.0        2    1    0    0    1"
      ]
     },
     "execution_count": 753,
     "metadata": {},
     "output_type": "execute_result"
    }
   ],
   "source": [
    "observed= pd.crosstab(index= films.Overall , columns= films.Clean)\n",
    "observed"
   ]
  },
  {
   "cell_type": "code",
   "execution_count": 755,
   "id": "89935196-6fca-4126-aea9-0f3cb854269b",
   "metadata": {},
   "outputs": [
    {
     "data": {
      "text/plain": [
       "Chi2ContingencyResult(statistic=92.88713668393578, pvalue=7.327720046056968e-13, dof=16, expected_freq=array([[5.68754448e+01, 6.06049822e+01, 1.07224199e+01, 1.86476868e+00,\n",
       "        9.32384342e-01],\n",
       "       [5.77437722e+01, 6.15302491e+01, 1.08861210e+01, 1.89323843e+00,\n",
       "        9.46619217e-01],\n",
       "       [5.20996441e+00, 5.55160142e+00, 9.82206406e-01, 1.70818505e-01,\n",
       "        8.54092527e-02],\n",
       "       [4.34163701e-01, 4.62633452e-01, 8.18505338e-02, 1.42348754e-02,\n",
       "        7.11743772e-03],\n",
       "       [1.73665480e+00, 1.85053381e+00, 3.27402135e-01, 5.69395018e-02,\n",
       "        2.84697509e-02]]))"
      ]
     },
     "execution_count": 755,
     "metadata": {},
     "output_type": "execute_result"
    }
   ],
   "source": [
    "stats.chi2_contingency(observed)"
   ]
  },
  {
   "cell_type": "markdown",
   "id": "b42c4b2b-6c72-4077-9192-59600cea2e2e",
   "metadata": {},
   "source": [
    "##### 5. Rejection Rule :\n",
    "\n",
    "            New P_value < 0.05 \n",
    "            hence, we Reject NULL Hypothesis.\n",
    "\n",
    "##### 6. Business conclusion :\n",
    "\n",
    "             Therefore,we can say that There is relationship between Overall and Clean with 95% accuracy."
   ]
  },
  {
   "cell_type": "code",
   "execution_count": null,
   "id": "39c78ef0-f23e-4d17-9ef5-40a84e53eec7",
   "metadata": {},
   "outputs": [],
   "source": []
  },
  {
   "cell_type": "markdown",
   "id": "1df806e9-9fce-4fae-aa8c-fb306a7546b4",
   "metadata": {},
   "source": [
    "#####  1. NULL hypothesis , H0 :\n",
    "\n",
    "                There is no relationship between Overall and Parking.\n",
    "\n",
    "#####  2. ALTERNATIVE hypothesis , Ha :\n",
    "\n",
    "                There is relationship between Overall and Parking.\n",
    "\n",
    "##### 3. CI & p-values :\n",
    "\n",
    "                CI= 95% , p-value=0.05\n",
    "\n",
    "##### 4. Perform the test :\n",
    "\n",
    "                chi-squared test"
   ]
  },
  {
   "cell_type": "code",
   "execution_count": 768,
   "id": "c715f2db-28a6-4fb7-86a5-2a5678a2e71e",
   "metadata": {},
   "outputs": [
    {
     "data": {
      "text/html": [
       "<div>\n",
       "<style scoped>\n",
       "    .dataframe tbody tr th:only-of-type {\n",
       "        vertical-align: middle;\n",
       "    }\n",
       "\n",
       "    .dataframe tbody tr th {\n",
       "        vertical-align: top;\n",
       "    }\n",
       "\n",
       "    .dataframe thead th {\n",
       "        text-align: right;\n",
       "    }\n",
       "</style>\n",
       "<table border=\"1\" class=\"dataframe\">\n",
       "  <thead>\n",
       "    <tr style=\"text-align: right;\">\n",
       "      <th>Parking</th>\n",
       "      <th>1.0</th>\n",
       "      <th>2.0</th>\n",
       "      <th>3.0</th>\n",
       "      <th>4.0</th>\n",
       "      <th>5.0</th>\n",
       "    </tr>\n",
       "    <tr>\n",
       "      <th>Overall</th>\n",
       "      <th></th>\n",
       "      <th></th>\n",
       "      <th></th>\n",
       "      <th></th>\n",
       "      <th></th>\n",
       "    </tr>\n",
       "  </thead>\n",
       "  <tbody>\n",
       "    <tr>\n",
       "      <th>1.0</th>\n",
       "      <td>86</td>\n",
       "      <td>39</td>\n",
       "      <td>4</td>\n",
       "      <td>2</td>\n",
       "      <td>0</td>\n",
       "    </tr>\n",
       "    <tr>\n",
       "      <th>2.0</th>\n",
       "      <td>24</td>\n",
       "      <td>86</td>\n",
       "      <td>19</td>\n",
       "      <td>3</td>\n",
       "      <td>1</td>\n",
       "    </tr>\n",
       "    <tr>\n",
       "      <th>3.0</th>\n",
       "      <td>2</td>\n",
       "      <td>3</td>\n",
       "      <td>5</td>\n",
       "      <td>1</td>\n",
       "      <td>1</td>\n",
       "    </tr>\n",
       "    <tr>\n",
       "      <th>4.0</th>\n",
       "      <td>0</td>\n",
       "      <td>0</td>\n",
       "      <td>0</td>\n",
       "      <td>0</td>\n",
       "      <td>1</td>\n",
       "    </tr>\n",
       "    <tr>\n",
       "      <th>5.0</th>\n",
       "      <td>1</td>\n",
       "      <td>1</td>\n",
       "      <td>0</td>\n",
       "      <td>1</td>\n",
       "      <td>1</td>\n",
       "    </tr>\n",
       "  </tbody>\n",
       "</table>\n",
       "</div>"
      ],
      "text/plain": [
       "Parking  1.0  2.0  3.0  4.0  5.0\n",
       "Overall                         \n",
       "1.0       86   39    4    2    0\n",
       "2.0       24   86   19    3    1\n",
       "3.0        2    3    5    1    1\n",
       "4.0        0    0    0    0    1\n",
       "5.0        1    1    0    1    1"
      ]
     },
     "execution_count": 768,
     "metadata": {},
     "output_type": "execute_result"
    }
   ],
   "source": [
    "observed= pd.crosstab(index= films.Overall , columns= films.Parking)\n",
    "observed"
   ]
  },
  {
   "cell_type": "code",
   "execution_count": 770,
   "id": "5cf2dde5-4c6f-416a-9425-f8231b0df0f1",
   "metadata": {},
   "outputs": [
    {
     "data": {
      "text/plain": [
       "Chi2ContingencyResult(statistic=181.10964214817002, pvalue=5.046695211640295e-30, dof=16, expected_freq=array([[5.26797153e+01, 6.01387900e+01, 1.30533808e+01, 3.26334520e+00,\n",
       "        1.86476868e+00],\n",
       "       [5.34839858e+01, 6.10569395e+01, 1.32526690e+01, 3.31316726e+00,\n",
       "        1.89323843e+00],\n",
       "       [4.82562278e+00, 5.50889680e+00, 1.19572954e+00, 2.98932384e-01,\n",
       "        1.70818505e-01],\n",
       "       [4.02135231e-01, 4.59074733e-01, 9.96441281e-02, 2.49110320e-02,\n",
       "        1.42348754e-02],\n",
       "       [1.60854093e+00, 1.83629893e+00, 3.98576512e-01, 9.96441281e-02,\n",
       "        5.69395018e-02]]))"
      ]
     },
     "execution_count": 770,
     "metadata": {},
     "output_type": "execute_result"
    }
   ],
   "source": [
    "stats.chi2_contingency(observed)"
   ]
  },
  {
   "cell_type": "markdown",
   "id": "770749f4-b180-4b79-a24b-d39b1958bcd1",
   "metadata": {},
   "source": [
    "##### 5. Rejection Rule :\n",
    "\n",
    "            New P_value < 0.05 \n",
    "            hence, we Reject NULL Hypothesis.\n",
    "\n",
    "##### 6. Business conclusion :\n",
    "\n",
    "             Therefore,we can say that There is relationship between Overall and Parking with 95% accuracy."
   ]
  },
  {
   "cell_type": "markdown",
   "id": "5ffb62dd-5b74-45d5-aecd-f998a9f6ff98",
   "metadata": {},
   "source": [
    "#####  1. NULL hypothesis , H0 :\n",
    "\n",
    "                There is no relationship between Overall and Sinage.\n",
    "\n",
    "#####  2. ALTERNATIVE hypothesis , Ha :\n",
    "\n",
    "                There is relationship between Overall and Sinage.\n",
    "\n",
    "##### 3. CI & p-values :\n",
    "\n",
    "                CI= 95% , p-value=0.05\n",
    "\n",
    "##### 4. Perform the test :\n",
    "\n",
    "                chi-squared test"
   ]
  },
  {
   "cell_type": "code",
   "execution_count": 777,
   "id": "3e21cbee-6323-4cbc-a69e-1290a5377d87",
   "metadata": {},
   "outputs": [
    {
     "data": {
      "text/html": [
       "<div>\n",
       "<style scoped>\n",
       "    .dataframe tbody tr th:only-of-type {\n",
       "        vertical-align: middle;\n",
       "    }\n",
       "\n",
       "    .dataframe tbody tr th {\n",
       "        vertical-align: top;\n",
       "    }\n",
       "\n",
       "    .dataframe thead th {\n",
       "        text-align: right;\n",
       "    }\n",
       "</style>\n",
       "<table border=\"1\" class=\"dataframe\">\n",
       "  <thead>\n",
       "    <tr style=\"text-align: right;\">\n",
       "      <th>Sinage</th>\n",
       "      <th>1.0</th>\n",
       "      <th>2.0</th>\n",
       "      <th>3.0</th>\n",
       "      <th>4.0</th>\n",
       "      <th>5.0</th>\n",
       "    </tr>\n",
       "    <tr>\n",
       "      <th>Overall</th>\n",
       "      <th></th>\n",
       "      <th></th>\n",
       "      <th></th>\n",
       "      <th></th>\n",
       "      <th></th>\n",
       "    </tr>\n",
       "  </thead>\n",
       "  <tbody>\n",
       "    <tr>\n",
       "      <th>1.0</th>\n",
       "      <td>72</td>\n",
       "      <td>42</td>\n",
       "      <td>12</td>\n",
       "      <td>2</td>\n",
       "      <td>2</td>\n",
       "    </tr>\n",
       "    <tr>\n",
       "      <th>2.0</th>\n",
       "      <td>19</td>\n",
       "      <td>87</td>\n",
       "      <td>22</td>\n",
       "      <td>4</td>\n",
       "      <td>2</td>\n",
       "    </tr>\n",
       "    <tr>\n",
       "      <th>3.0</th>\n",
       "      <td>0</td>\n",
       "      <td>4</td>\n",
       "      <td>8</td>\n",
       "      <td>0</td>\n",
       "      <td>0</td>\n",
       "    </tr>\n",
       "    <tr>\n",
       "      <th>4.0</th>\n",
       "      <td>0</td>\n",
       "      <td>0</td>\n",
       "      <td>1</td>\n",
       "      <td>0</td>\n",
       "      <td>0</td>\n",
       "    </tr>\n",
       "    <tr>\n",
       "      <th>5.0</th>\n",
       "      <td>1</td>\n",
       "      <td>1</td>\n",
       "      <td>1</td>\n",
       "      <td>0</td>\n",
       "      <td>1</td>\n",
       "    </tr>\n",
       "  </tbody>\n",
       "</table>\n",
       "</div>"
      ],
      "text/plain": [
       "Sinage   1.0  2.0  3.0  4.0  5.0\n",
       "Overall                         \n",
       "1.0       72   42   12    2    2\n",
       "2.0       19   87   22    4    2\n",
       "3.0        0    4    8    0    0\n",
       "4.0        0    0    1    0    0\n",
       "5.0        1    1    1    0    1"
      ]
     },
     "execution_count": 777,
     "metadata": {},
     "output_type": "execute_result"
    }
   ],
   "source": [
    "observed= pd.crosstab(index= films.Overall , columns= films.Sinage)\n",
    "observed"
   ]
  },
  {
   "cell_type": "code",
   "execution_count": 779,
   "id": "ef2220d7-82d7-44df-aa7b-3f9a67d0e21f",
   "metadata": {},
   "outputs": [
    {
     "data": {
      "text/plain": [
       "Chi2ContingencyResult(statistic=96.6900409305424, pvalue=1.4397985934919274e-13, dof=16, expected_freq=array([[4.25622776e+01, 6.19928826e+01, 2.03558719e+01, 2.77580071e+00,\n",
       "        2.31316726e+00],\n",
       "       [4.38718861e+01, 6.39003559e+01, 2.09822064e+01, 2.86120996e+00,\n",
       "        2.38434164e+00],\n",
       "       [3.92882562e+00, 5.72241993e+00, 1.87900356e+00, 2.56227758e-01,\n",
       "        2.13523132e-01],\n",
       "       [3.27402135e-01, 4.76868327e-01, 1.56583630e-01, 2.13523132e-02,\n",
       "        1.77935943e-02],\n",
       "       [1.30960854e+00, 1.90747331e+00, 6.26334520e-01, 8.54092527e-02,\n",
       "        7.11743772e-02]]))"
      ]
     },
     "execution_count": 779,
     "metadata": {},
     "output_type": "execute_result"
    }
   ],
   "source": [
    "stats.chi2_contingency(observed)"
   ]
  },
  {
   "cell_type": "markdown",
   "id": "b6abeaac-f8d1-421f-b4ee-606feaf08743",
   "metadata": {},
   "source": [
    "##### 5. Rejection Rule :\n",
    "\n",
    "            New P_value < 0.05 \n",
    "            hence, we Reject NULL Hypothesis.\n",
    "\n",
    "##### 6. Business conclusion :\n",
    "\n",
    "             Therefore,we can say that There is relationship between Overall and Sinage with 95% accuracy."
   ]
  },
  {
   "cell_type": "markdown",
   "id": "670aea22-2f81-4655-b2c3-dd67b3f3e336",
   "metadata": {},
   "source": [
    "#### ---Chi_square shows that there is strong releanship between OVERALL and ALL OF THEM (PARKING, CLEAN, SINAGE), which affecting the overall satisfaction level."
   ]
  },
  {
   "cell_type": "markdown",
   "id": "dc021840-573f-45fa-9974-ffeb1fbe685b",
   "metadata": {},
   "source": [
    "#### (c.) What is the demographic profile of Film on the Rocks patrons?"
   ]
  },
  {
   "cell_type": "code",
   "execution_count": 854,
   "id": "d8d50615-8a9c-4743-a96d-8b38e33e9fce",
   "metadata": {},
   "outputs": [
    {
     "data": {
      "text/html": [
       "<div>\n",
       "<style scoped>\n",
       "    .dataframe tbody tr th:only-of-type {\n",
       "        vertical-align: middle;\n",
       "    }\n",
       "\n",
       "    .dataframe tbody tr th {\n",
       "        vertical-align: top;\n",
       "    }\n",
       "\n",
       "    .dataframe thead th {\n",
       "        text-align: right;\n",
       "    }\n",
       "</style>\n",
       "<table border=\"1\" class=\"dataframe\">\n",
       "  <thead>\n",
       "    <tr style=\"text-align: right;\">\n",
       "      <th></th>\n",
       "      <th>%age</th>\n",
       "    </tr>\n",
       "    <tr>\n",
       "      <th>Gender</th>\n",
       "      <th></th>\n",
       "    </tr>\n",
       "  </thead>\n",
       "  <tbody>\n",
       "    <tr>\n",
       "      <th>Female</th>\n",
       "      <td>62.68</td>\n",
       "    </tr>\n",
       "    <tr>\n",
       "      <th>Male</th>\n",
       "      <td>37.32</td>\n",
       "    </tr>\n",
       "  </tbody>\n",
       "</table>\n",
       "</div>"
      ],
      "text/plain": [
       "         %age\n",
       "Gender       \n",
       "Female  62.68\n",
       "Male    37.32"
      ]
     },
     "execution_count": 854,
     "metadata": {},
     "output_type": "execute_result"
    }
   ],
   "source": [
    "gender_per= pd.DataFrame(round(films.Gender.value_counts()/films.Gender.count()*100,2)).rename(columns={'count':'%age'})\n",
    "gender_per"
   ]
  },
  {
   "cell_type": "code",
   "execution_count": 850,
   "id": "48695cea-44f1-4fbf-89f8-a6dc12164f41",
   "metadata": {},
   "outputs": [
    {
     "data": {
      "text/html": [
       "<div>\n",
       "<style scoped>\n",
       "    .dataframe tbody tr th:only-of-type {\n",
       "        vertical-align: middle;\n",
       "    }\n",
       "\n",
       "    .dataframe tbody tr th {\n",
       "        vertical-align: top;\n",
       "    }\n",
       "\n",
       "    .dataframe thead th {\n",
       "        text-align: right;\n",
       "    }\n",
       "</style>\n",
       "<table border=\"1\" class=\"dataframe\">\n",
       "  <thead>\n",
       "    <tr style=\"text-align: right;\">\n",
       "      <th></th>\n",
       "      <th>%age</th>\n",
       "    </tr>\n",
       "    <tr>\n",
       "      <th>Marital_Status</th>\n",
       "      <th></th>\n",
       "    </tr>\n",
       "  </thead>\n",
       "  <tbody>\n",
       "    <tr>\n",
       "      <th>Single</th>\n",
       "      <td>68.09</td>\n",
       "    </tr>\n",
       "    <tr>\n",
       "      <th>Married</th>\n",
       "      <td>31.91</td>\n",
       "    </tr>\n",
       "  </tbody>\n",
       "</table>\n",
       "</div>"
      ],
      "text/plain": [
       "                 %age\n",
       "Marital_Status       \n",
       "Single          68.09\n",
       "Married         31.91"
      ]
     },
     "execution_count": 850,
     "metadata": {},
     "output_type": "execute_result"
    }
   ],
   "source": [
    "martial_sta= pd.DataFrame(round(films.Marital_Status.value_counts()/films.Marital_Status.count()*100,2)).rename(columns={'count':'%age'})\n",
    "martial_sta"
   ]
  },
  {
   "cell_type": "code",
   "execution_count": 838,
   "id": "0cde5c01-338b-4078-a522-2f3776f7f3f1",
   "metadata": {},
   "outputs": [
    {
     "data": {
      "text/html": [
       "<div>\n",
       "<style scoped>\n",
       "    .dataframe tbody tr th:only-of-type {\n",
       "        vertical-align: middle;\n",
       "    }\n",
       "\n",
       "    .dataframe tbody tr th {\n",
       "        vertical-align: top;\n",
       "    }\n",
       "\n",
       "    .dataframe thead th {\n",
       "        text-align: right;\n",
       "    }\n",
       "</style>\n",
       "<table border=\"1\" class=\"dataframe\">\n",
       "  <thead>\n",
       "    <tr style=\"text-align: right;\">\n",
       "      <th></th>\n",
       "      <th>No_of_People</th>\n",
       "    </tr>\n",
       "    <tr>\n",
       "      <th>Income</th>\n",
       "      <th></th>\n",
       "    </tr>\n",
       "  </thead>\n",
       "  <tbody>\n",
       "    <tr>\n",
       "      <th>1.0</th>\n",
       "      <td>118</td>\n",
       "    </tr>\n",
       "    <tr>\n",
       "      <th>3.0</th>\n",
       "      <td>78</td>\n",
       "    </tr>\n",
       "    <tr>\n",
       "      <th>2.0</th>\n",
       "      <td>74</td>\n",
       "    </tr>\n",
       "  </tbody>\n",
       "</table>\n",
       "</div>"
      ],
      "text/plain": [
       "        No_of_People\n",
       "Income              \n",
       "1.0              118\n",
       "3.0               78\n",
       "2.0               74"
      ]
     },
     "execution_count": 838,
     "metadata": {},
     "output_type": "execute_result"
    }
   ],
   "source": [
    "income_sta= pd.DataFrame(films.Income.value_counts()).rename(columns={'count':'No_of_Profiles'})\n",
    "income_sta"
   ]
  },
  {
   "cell_type": "code",
   "execution_count": 846,
   "id": "bcef706a-7c59-4e89-8fbe-250f2835bdde",
   "metadata": {},
   "outputs": [
    {
     "data": {
      "text/html": [
       "<div>\n",
       "<style scoped>\n",
       "    .dataframe tbody tr th:only-of-type {\n",
       "        vertical-align: middle;\n",
       "    }\n",
       "\n",
       "    .dataframe tbody tr th {\n",
       "        vertical-align: top;\n",
       "    }\n",
       "\n",
       "    .dataframe thead th {\n",
       "        text-align: right;\n",
       "    }\n",
       "</style>\n",
       "<table border=\"1\" class=\"dataframe\">\n",
       "  <thead>\n",
       "    <tr style=\"text-align: right;\">\n",
       "      <th></th>\n",
       "      <th>No_of_Profiles</th>\n",
       "    </tr>\n",
       "    <tr>\n",
       "      <th>Age</th>\n",
       "      <th></th>\n",
       "    </tr>\n",
       "  </thead>\n",
       "  <tbody>\n",
       "    <tr>\n",
       "      <th>2.0</th>\n",
       "      <td>145</td>\n",
       "    </tr>\n",
       "    <tr>\n",
       "      <th>3.0</th>\n",
       "      <td>105</td>\n",
       "    </tr>\n",
       "    <tr>\n",
       "      <th>1.0</th>\n",
       "      <td>22</td>\n",
       "    </tr>\n",
       "    <tr>\n",
       "      <th>4.0</th>\n",
       "      <td>10</td>\n",
       "    </tr>\n",
       "  </tbody>\n",
       "</table>\n",
       "</div>"
      ],
      "text/plain": [
       "     No_of_Profiles\n",
       "Age                \n",
       "2.0             145\n",
       "3.0             105\n",
       "1.0              22\n",
       "4.0              10"
      ]
     },
     "execution_count": 846,
     "metadata": {},
     "output_type": "execute_result"
    }
   ],
   "source": [
    "age_sta= pd.DataFrame(films.Age.value_counts()).rename(columns={'count':'No_of_Profiles'})\n",
    "age_sta"
   ]
  },
  {
   "cell_type": "markdown",
   "id": "9672f218-1c4c-47ff-a337-6a06a5d84e58",
   "metadata": {},
   "source": [
    "##### 1. There are 62.7% of FEMALES profiles of Film on the Rocks patrons\n",
    "\n",
    "##### 2. There are 68.09% of SINGLE profiles of Film on the Rocks patrons\n",
    "\n",
    "##### 3. Most people are from Age group 2.0 i.e.(13-30) in the profiles of Film on the Rocks patrons\n",
    "\n",
    "##### 4. Most people have income group of 1.0 i.e.(LESS THAN 50,000) in the profiles of Film on the Rocks patrons"
   ]
  },
  {
   "cell_type": "markdown",
   "id": "ebb1f244-eac7-4f60-9139-be739d7581e2",
   "metadata": {},
   "source": [
    "#### (d.) In what media outlet(s) should the film series be advertised?"
   ]
  },
  {
   "cell_type": "code",
   "execution_count": 872,
   "id": "88ee0b8a-ddad-482c-92d6-e7f137a0c34f",
   "metadata": {},
   "outputs": [
    {
     "data": {
      "text/html": [
       "<div>\n",
       "<style scoped>\n",
       "    .dataframe tbody tr th:only-of-type {\n",
       "        vertical-align: middle;\n",
       "    }\n",
       "\n",
       "    .dataframe tbody tr th {\n",
       "        vertical-align: top;\n",
       "    }\n",
       "\n",
       "    .dataframe thead th {\n",
       "        text-align: right;\n",
       "    }\n",
       "</style>\n",
       "<table border=\"1\" class=\"dataframe\">\n",
       "  <thead>\n",
       "    <tr style=\"text-align: right;\">\n",
       "      <th></th>\n",
       "      <th>No_of_profiles</th>\n",
       "    </tr>\n",
       "    <tr>\n",
       "      <th>Hear_About</th>\n",
       "      <th></th>\n",
       "    </tr>\n",
       "  </thead>\n",
       "  <tbody>\n",
       "    <tr>\n",
       "      <th>5</th>\n",
       "      <td>185</td>\n",
       "    </tr>\n",
       "    <tr>\n",
       "      <th>4</th>\n",
       "      <td>38</td>\n",
       "    </tr>\n",
       "    <tr>\n",
       "      <th>1</th>\n",
       "      <td>22</td>\n",
       "    </tr>\n",
       "    <tr>\n",
       "      <th>2</th>\n",
       "      <td>12</td>\n",
       "    </tr>\n",
       "    <tr>\n",
       "      <th>3</th>\n",
       "      <td>12</td>\n",
       "    </tr>\n",
       "    <tr>\n",
       "      <th>2,5</th>\n",
       "      <td>2</td>\n",
       "    </tr>\n",
       "    <tr>\n",
       "      <th>1,5</th>\n",
       "      <td>1</td>\n",
       "    </tr>\n",
       "    <tr>\n",
       "      <th>3,4</th>\n",
       "      <td>1</td>\n",
       "    </tr>\n",
       "    <tr>\n",
       "      <th>3,5</th>\n",
       "      <td>1</td>\n",
       "    </tr>\n",
       "    <tr>\n",
       "      <th>4,5</th>\n",
       "      <td>1</td>\n",
       "    </tr>\n",
       "    <tr>\n",
       "      <th>5,4</th>\n",
       "      <td>1</td>\n",
       "    </tr>\n",
       "  </tbody>\n",
       "</table>\n",
       "</div>"
      ],
      "text/plain": [
       "            No_of_profiles\n",
       "Hear_About                \n",
       "5                      185\n",
       "4                       38\n",
       "1                       22\n",
       "2                       12\n",
       "3                       12\n",
       "2,5                      2\n",
       "1,5                      1\n",
       "3,4                      1\n",
       "3,5                      1\n",
       "4,5                      1\n",
       "5,4                      1"
      ]
     },
     "execution_count": 872,
     "metadata": {},
     "output_type": "execute_result"
    }
   ],
   "source": [
    "films.groupby('Hear_About')[['Age']].count().rename(columns= {'Age':'No_of_profiles'}).sort_values(by= 'No_of_profiles', ascending= False)"
   ]
  },
  {
   "cell_type": "markdown",
   "id": "cb328eff-9418-457d-9aa6-13e79908f545",
   "metadata": {},
   "source": [
    "since , word of mouth as 5.0 is highest one but it does not come under media outlet¶\n",
    "\n",
    "So, we'll go with the second one which is 4.0 i.e. WEBSITE\n",
    "\n",
    "**Therefore, film series should be advertised mainly in WEBSITE media outlet.**"
   ]
  },
  {
   "cell_type": "code",
   "execution_count": null,
   "id": "33ece716-bd30-43aa-9ea6-494e9edaf1c2",
   "metadata": {},
   "outputs": [],
   "source": []
  },
  {
   "cell_type": "code",
   "execution_count": null,
   "id": "04c09c01-e205-434c-ac61-03b2d5d30b57",
   "metadata": {},
   "outputs": [],
   "source": []
  },
  {
   "cell_type": "code",
   "execution_count": null,
   "id": "c69faff1-4f94-41a2-bc3a-84533e42c052",
   "metadata": {},
   "outputs": [],
   "source": []
  }
 ],
 "metadata": {
  "kernelspec": {
   "display_name": "Python [conda env:base] *",
   "language": "python",
   "name": "conda-base-py"
  },
  "language_info": {
   "codemirror_mode": {
    "name": "ipython",
    "version": 3
   },
   "file_extension": ".py",
   "mimetype": "text/x-python",
   "name": "python",
   "nbconvert_exporter": "python",
   "pygments_lexer": "ipython3",
   "version": "3.12.7"
  }
 },
 "nbformat": 4,
 "nbformat_minor": 5
}
